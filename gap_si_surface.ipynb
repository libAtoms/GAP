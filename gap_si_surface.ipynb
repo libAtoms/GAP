{
 "cells": [
  {
   "cell_type": "markdown",
   "metadata": {},
   "source": [
    "# The SOAP descriptor, Gaussian Approximation Potentials (GAP) and machine-learning of force fields "
   ]
  },
  {
   "cell_type": "markdown",
   "metadata": {},
   "source": [
    "Adam Fekete, Matrina Stella, Henry Lambert, Alessandro De Vita, Gabor Csanyi (gc121@cam.ac.uk)\n",
    "\n",
    "## Introduction\n",
    "\n",
    "In this tutorial we will be using a Gaussian Approximation Potentials to analyse results of TB DFT calculations of Si surface. Along the way we will learn about different descriptors (2b, 3b, soap) to describe local atomic environment in order to predict energies and forces of Si surface. \n",
    "\n"
   ]
  },
  {
   "cell_type": "code",
   "execution_count": 1,
   "metadata": {
    "ExecuteTime": {
     "end_time": "2019-09-25T23:25:37.431783Z",
     "start_time": "2019-09-25T23:25:34.912288Z"
    }
   },
   "outputs": [
    {
     "data": {
      "application/vnd.jupyter.widget-view+json": {
       "model_id": "09f90ee183be43eea1a94adef101e02d",
       "version_major": 2,
       "version_minor": 0
      },
      "text/plain": [
       "_ColormakerRegistry()"
      ]
     },
     "metadata": {},
     "output_type": "display_data"
    }
   ],
   "source": [
    "import os\n",
    "\n",
    "import numpy as np\n",
    "import matplotlib.pylab as plt\n",
    "\n",
    "from quippy.potential import Potential\n",
    "from quippy.descriptors import Descriptor\n",
    "\n",
    "from ase import Atoms, units \n",
    "from ase.build import add_vacuum\n",
    "from ase.lattice.cubic import Diamond\n",
    "from ase.io import write\n",
    "\n",
    "from ase.constraints import FixAtoms\n",
    "\n",
    "from ase.md.velocitydistribution import MaxwellBoltzmannDistribution\n",
    "from ase.md.verlet import VelocityVerlet\n",
    "from ase.md.langevin import Langevin\n",
    "\n",
    "from ase.optimize.precon import PreconLBFGS, Exp\n",
    "\n",
    "from gap_si_surface import ViewStructure"
   ]
  },
  {
   "cell_type": "markdown",
   "metadata": {},
   "source": [
    "## Part I: MD, descriptors\n",
    "### Parameters"
   ]
  },
  {
   "cell_type": "markdown",
   "metadata": {},
   "source": [
    "We can define some parameters here for the MD calculations:"
   ]
  },
  {
   "cell_type": "code",
   "execution_count": 2,
   "metadata": {
    "ExecuteTime": {
     "end_time": "2019-09-25T23:25:37.468121Z",
     "start_time": "2019-09-25T23:25:37.445712Z"
    }
   },
   "outputs": [],
   "source": [
    "T = 1000.0 # Temperature [Kelvin]\n",
    "timestep = 1.0 * units.fs"
   ]
  },
  {
   "cell_type": "markdown",
   "metadata": {},
   "source": [
    "## System"
   ]
  },
  {
   "cell_type": "markdown",
   "metadata": {},
   "source": [
    "Defining configuration for Si slab"
   ]
  },
  {
   "cell_type": "code",
   "execution_count": 3,
   "metadata": {
    "ExecuteTime": {
     "end_time": "2019-09-25T23:25:37.582000Z",
     "start_time": "2019-09-25T23:25:37.480222Z"
    },
    "scrolled": false
   },
   "outputs": [
    {
     "name": "stdout",
     "output_type": "stream",
     "text": [
      "Number of atoms: 32\n"
     ]
    }
   ],
   "source": [
    "def build_slab(size=(1,2,2), vacuum=10.):\n",
    "    # Build Si lattice.\n",
    "    # lattice = Diamond('Si', directions=([1, 0, 0], [0, 1, 0], [0, 0, 1]), latticeconstant=5.44, size=size)\n",
    "    lattice = Diamond('Si', latticeconstant=5.44, size=size)\n",
    "    atoms = Atoms(lattice)\n",
    "    \n",
    "\n",
    "    # Fixing the bottom layer     \n",
    "    bottom = atoms.positions[:,2].min()\n",
    "    fixed_mask = (abs(atoms.positions[:,2] - bottom) < 2.0)\n",
    "    atoms.set_constraint(FixAtoms(mask=fixed_mask))\n",
    "    \n",
    "    # build surface by adding space to z direction\n",
    "    add_vacuum(atoms, vacuum)\n",
    "    # atoms.center(vacuum=10.0, axis=2)\n",
    "    \n",
    "    return atoms\n",
    "\n",
    "\n",
    "atoms = build_slab()\n",
    "print('Number of atoms:', len(atoms))"
   ]
  },
  {
   "cell_type": "markdown",
   "metadata": {},
   "source": [
    "Let's visualise the initial configuration:"
   ]
  },
  {
   "cell_type": "code",
   "execution_count": 4,
   "metadata": {
    "ExecuteTime": {
     "end_time": "2019-09-25T23:25:38.342587Z",
     "start_time": "2019-09-25T23:25:37.589076Z"
    },
    "scrolled": true
   },
   "outputs": [
    {
     "data": {
      "application/vnd.jupyter.widget-view+json": {
       "model_id": "1ff31fb51368494b86726c484a59f136",
       "version_major": 2,
       "version_minor": 0
      },
      "text/plain": [
       "NGLWidget()"
      ]
     },
     "metadata": {},
     "output_type": "display_data"
    }
   ],
   "source": [
    "view = ViewStructure(atoms, repetition=(2,2,1))\n",
    "view"
   ]
  },
  {
   "cell_type": "markdown",
   "metadata": {},
   "source": [
    "## MD dynamics with TB DFTB"
   ]
  },
  {
   "cell_type": "markdown",
   "metadata": {},
   "source": [
    "We use TB DFTB potential to calculate the potential energies and forces for the each timestep:"
   ]
  },
  {
   "cell_type": "code",
   "execution_count": 5,
   "metadata": {
    "ExecuteTime": {
     "end_time": "2019-09-25T22:42:17.925199Z",
     "start_time": "2019-09-25T22:42:14.803045Z"
    }
   },
   "outputs": [],
   "source": [
    "# attach tight binding calculator\n",
    "qm_pot = Potential('TB DFTB', param_filename='dftb-params.xml')\n",
    "atoms.set_calculator(qm_pot)\n",
    "\n",
    "# Thermalize atoms\n",
    "MaxwellBoltzmannDistribution(atoms, 2.0 * T * units.kB)\n",
    "# dynamics = VelocityVerlet(atoms, timestep)\n",
    "dynamics = Langevin(atoms, timestep, T * units.kB, 0.002)\n",
    "    \n",
    "#attach observer to dynamics to track quantity of interest (temperature)\n",
    "def print_status():    \n",
    "    print('Step = {}, time = {} [fs], T = {} [K]'.format(\n",
    "        dynamics.nsteps,\n",
    "        dynamics.nsteps * dynamics.dt / units.fs,\n",
    "        atoms.get_kinetic_energy() / (1.5 * units.kB * len(atoms))\n",
    "    ))\n",
    "\n",
    "def print_energy(a=atoms):  # store a reference to atoms in the definition.\n",
    "    \"\"\"Function to print the potential, kinetic and total energy.\"\"\"\n",
    "    epot = a.get_potential_energy() / len(a)\n",
    "    ekin = a.get_kinetic_energy() / len(a)\n",
    "    print('Energy per atom: Epot = %.3feV  Ekin = %.3feV (T=%3.0fK)  '\n",
    "          'Etot = %.3feV' % (epot, ekin, ekin / (1.5 * units.kB), epot + ekin))\n",
    "    \n",
    "dynamics.attach(print_status, interval=10)\n",
    "dynamics.attach(print_energy, interval=1)"
   ]
  },
  {
   "cell_type": "markdown",
   "metadata": {},
   "source": [
    "Let's do the dynamics:"
   ]
  },
  {
   "cell_type": "code",
   "execution_count": 6,
   "metadata": {
    "ExecuteTime": {
     "end_time": "2019-09-25T22:42:49.846543Z",
     "start_time": "2019-09-25T22:42:17.929760Z"
    },
    "scrolled": false
   },
   "outputs": [
    {
     "name": "stdout",
     "output_type": "stream",
     "text": [
      "Step = 0, time = 0.0 [fs], T = 2126.2241342902184 [K]\n",
      "Energy per atom: Epot = -34.783eV  Ekin = 0.275eV (T=2126K)  Etot = -34.509eV\n",
      "Energy per atom: Epot = -34.782eV  Ekin = 0.263eV (T=2037K)  Etot = -34.519eV\n",
      "Energy per atom: Epot = -34.778eV  Ekin = 0.260eV (T=2010K)  Etot = -34.519eV\n",
      "Energy per atom: Epot = -34.772eV  Ekin = 0.253eV (T=1960K)  Etot = -34.519eV\n",
      "Energy per atom: Epot = -34.764eV  Ekin = 0.244eV (T=1891K)  Etot = -34.520eV\n",
      "Energy per atom: Epot = -34.754eV  Ekin = 0.234eV (T=1810K)  Etot = -34.520eV\n",
      "Energy per atom: Epot = -34.743eV  Ekin = 0.222eV (T=1721K)  Etot = -34.521eV\n",
      "Energy per atom: Epot = -34.731eV  Ekin = 0.211eV (T=1633K)  Etot = -34.520eV\n",
      "Energy per atom: Epot = -34.718eV  Ekin = 0.197eV (T=1522K)  Etot = -34.521eV\n",
      "Energy per atom: Epot = -34.704eV  Ekin = 0.183eV (T=1418K)  Etot = -34.521eV\n",
      "Step = 10, time = 10.0 [fs], T = 1307.506208654726 [K]\n",
      "Energy per atom: Epot = -34.690eV  Ekin = 0.169eV (T=1308K)  Etot = -34.521eV\n",
      "Energy per atom: Epot = -34.676eV  Ekin = 0.155eV (T=1196K)  Etot = -34.521eV\n",
      "Energy per atom: Epot = -34.662eV  Ekin = 0.140eV (T=1083K)  Etot = -34.522eV\n",
      "Energy per atom: Epot = -34.648eV  Ekin = 0.127eV (T=983K)  Etot = -34.521eV\n",
      "Energy per atom: Epot = -34.635eV  Ekin = 0.114eV (T=883K)  Etot = -34.521eV\n",
      "Energy per atom: Epot = -34.623eV  Ekin = 0.102eV (T=789K)  Etot = -34.521eV\n",
      "Energy per atom: Epot = -34.612eV  Ekin = 0.092eV (T=710K)  Etot = -34.520eV\n",
      "Energy per atom: Epot = -34.603eV  Ekin = 0.082eV (T=636K)  Etot = -34.521eV\n",
      "Energy per atom: Epot = -34.595eV  Ekin = 0.074eV (T=574K)  Etot = -34.520eV\n",
      "Energy per atom: Epot = -34.588eV  Ekin = 0.068eV (T=522K)  Etot = -34.521eV\n",
      "Step = 20, time = 20.0 [fs], T = 482.4657605134864 [K]\n",
      "Energy per atom: Epot = -34.583eV  Ekin = 0.062eV (T=482K)  Etot = -34.521eV\n",
      "Energy per atom: Epot = -34.580eV  Ekin = 0.059eV (T=453K)  Etot = -34.521eV\n",
      "Energy per atom: Epot = -34.578eV  Ekin = 0.057eV (T=437K)  Etot = -34.521eV\n",
      "Energy per atom: Epot = -34.578eV  Ekin = 0.056eV (T=434K)  Etot = -34.522eV\n",
      "Energy per atom: Epot = -34.579eV  Ekin = 0.057eV (T=440K)  Etot = -34.522eV\n",
      "Energy per atom: Epot = -34.581eV  Ekin = 0.059eV (T=457K)  Etot = -34.522eV\n",
      "Energy per atom: Epot = -34.584eV  Ekin = 0.063eV (T=484K)  Etot = -34.522eV\n",
      "Energy per atom: Epot = -34.589eV  Ekin = 0.066eV (T=512K)  Etot = -34.522eV\n",
      "Energy per atom: Epot = -34.594eV  Ekin = 0.071eV (T=550K)  Etot = -34.523eV\n",
      "Energy per atom: Epot = -34.600eV  Ekin = 0.077eV (T=596K)  Etot = -34.523eV\n",
      "Step = 30, time = 30.0 [fs], T = 641.2190478661748 [K]\n",
      "Energy per atom: Epot = -34.606eV  Ekin = 0.083eV (T=641K)  Etot = -34.523eV\n",
      "Energy per atom: Epot = -34.613eV  Ekin = 0.090eV (T=696K)  Etot = -34.523eV\n",
      "Energy per atom: Epot = -34.620eV  Ekin = 0.097eV (T=753K)  Etot = -34.523eV\n",
      "Energy per atom: Epot = -34.627eV  Ekin = 0.104eV (T=807K)  Etot = -34.523eV\n",
      "Energy per atom: Epot = -34.635eV  Ekin = 0.111eV (T=863K)  Etot = -34.523eV\n",
      "Energy per atom: Epot = -34.642eV  Ekin = 0.119eV (T=919K)  Etot = -34.523eV\n",
      "Energy per atom: Epot = -34.649eV  Ekin = 0.126eV (T=972K)  Etot = -34.523eV\n",
      "Energy per atom: Epot = -34.656eV  Ekin = 0.132eV (T=1025K)  Etot = -34.524eV\n",
      "Energy per atom: Epot = -34.663eV  Ekin = 0.140eV (T=1079K)  Etot = -34.523eV\n",
      "Energy per atom: Epot = -34.669eV  Ekin = 0.145eV (T=1121K)  Etot = -34.524eV\n",
      "Step = 40, time = 40.0 [fs], T = 1161.738945086739 [K]\n",
      "Energy per atom: Epot = -34.674eV  Ekin = 0.150eV (T=1162K)  Etot = -34.524eV\n",
      "Energy per atom: Epot = -34.680eV  Ekin = 0.155eV (T=1201K)  Etot = -34.524eV\n",
      "Energy per atom: Epot = -34.684eV  Ekin = 0.160eV (T=1240K)  Etot = -34.524eV\n",
      "Energy per atom: Epot = -34.688eV  Ekin = 0.164eV (T=1271K)  Etot = -34.524eV\n",
      "Energy per atom: Epot = -34.691eV  Ekin = 0.168eV (T=1297K)  Etot = -34.524eV\n",
      "Energy per atom: Epot = -34.694eV  Ekin = 0.172eV (T=1330K)  Etot = -34.522eV\n",
      "Energy per atom: Epot = -34.696eV  Ekin = 0.175eV (T=1353K)  Etot = -34.521eV\n",
      "Energy per atom: Epot = -34.698eV  Ekin = 0.177eV (T=1371K)  Etot = -34.520eV\n",
      "Energy per atom: Epot = -34.698eV  Ekin = 0.178eV (T=1375K)  Etot = -34.521eV\n",
      "Energy per atom: Epot = -34.699eV  Ekin = 0.178eV (T=1378K)  Etot = -34.521eV\n",
      "Step = 50, time = 50.00000000000001 [fs], T = 1373.781903076175 [K]\n",
      "Energy per atom: Epot = -34.698eV  Ekin = 0.178eV (T=1374K)  Etot = -34.521eV\n",
      "Energy per atom: Epot = -34.698eV  Ekin = 0.176eV (T=1364K)  Etot = -34.521eV\n",
      "Energy per atom: Epot = -34.696eV  Ekin = 0.176eV (T=1360K)  Etot = -34.521eV\n",
      "Energy per atom: Epot = -34.695eV  Ekin = 0.175eV (T=1355K)  Etot = -34.520eV\n",
      "Energy per atom: Epot = -34.693eV  Ekin = 0.174eV (T=1344K)  Etot = -34.519eV\n",
      "Energy per atom: Epot = -34.691eV  Ekin = 0.171eV (T=1323K)  Etot = -34.520eV\n",
      "Energy per atom: Epot = -34.689eV  Ekin = 0.168eV (T=1302K)  Etot = -34.520eV\n",
      "Energy per atom: Epot = -34.687eV  Ekin = 0.165eV (T=1275K)  Etot = -34.522eV\n",
      "Energy per atom: Epot = -34.685eV  Ekin = 0.163eV (T=1257K)  Etot = -34.522eV\n",
      "Energy per atom: Epot = -34.683eV  Ekin = 0.161eV (T=1243K)  Etot = -34.522eV\n",
      "Step = 60, time = 60.0 [fs], T = 1234.8228544898413 [K]\n",
      "Energy per atom: Epot = -34.682eV  Ekin = 0.160eV (T=1235K)  Etot = -34.522eV\n",
      "Energy per atom: Epot = -34.681eV  Ekin = 0.159eV (T=1229K)  Etot = -34.522eV\n",
      "Energy per atom: Epot = -34.680eV  Ekin = 0.159eV (T=1232K)  Etot = -34.521eV\n",
      "Energy per atom: Epot = -34.680eV  Ekin = 0.158eV (T=1219K)  Etot = -34.522eV\n",
      "Energy per atom: Epot = -34.680eV  Ekin = 0.157eV (T=1217K)  Etot = -34.522eV\n",
      "Energy per atom: Epot = -34.680eV  Ekin = 0.157eV (T=1217K)  Etot = -34.523eV\n",
      "Energy per atom: Epot = -34.681eV  Ekin = 0.157eV (T=1214K)  Etot = -34.524eV\n",
      "Energy per atom: Epot = -34.682eV  Ekin = 0.158eV (T=1219K)  Etot = -34.524eV\n",
      "Energy per atom: Epot = -34.683eV  Ekin = 0.160eV (T=1235K)  Etot = -34.523eV\n",
      "Energy per atom: Epot = -34.684eV  Ekin = 0.160eV (T=1241K)  Etot = -34.524eV\n",
      "Step = 70, time = 70.0 [fs], T = 1252.5792913035993 [K]\n",
      "Energy per atom: Epot = -34.685eV  Ekin = 0.162eV (T=1253K)  Etot = -34.524eV\n",
      "Energy per atom: Epot = -34.687eV  Ekin = 0.163eV (T=1263K)  Etot = -34.523eV\n",
      "Energy per atom: Epot = -34.688eV  Ekin = 0.165eV (T=1273K)  Etot = -34.523eV\n",
      "Energy per atom: Epot = -34.689eV  Ekin = 0.166eV (T=1282K)  Etot = -34.523eV\n",
      "Energy per atom: Epot = -34.690eV  Ekin = 0.168eV (T=1300K)  Etot = -34.522eV\n",
      "Energy per atom: Epot = -34.691eV  Ekin = 0.170eV (T=1313K)  Etot = -34.521eV\n",
      "Energy per atom: Epot = -34.692eV  Ekin = 0.171eV (T=1320K)  Etot = -34.521eV\n",
      "Energy per atom: Epot = -34.693eV  Ekin = 0.171eV (T=1327K)  Etot = -34.521eV\n",
      "Energy per atom: Epot = -34.693eV  Ekin = 0.172eV (T=1334K)  Etot = -34.521eV\n",
      "Energy per atom: Epot = -34.694eV  Ekin = 0.174eV (T=1345K)  Etot = -34.520eV\n",
      "Step = 80, time = 80.0 [fs], T = 1354.1064927471066 [K]\n",
      "Energy per atom: Epot = -34.695eV  Ekin = 0.175eV (T=1354K)  Etot = -34.520eV\n",
      "Energy per atom: Epot = -34.696eV  Ekin = 0.176eV (T=1359K)  Etot = -34.520eV\n",
      "Energy per atom: Epot = -34.697eV  Ekin = 0.177eV (T=1373K)  Etot = -34.519eV\n",
      "Energy per atom: Epot = -34.698eV  Ekin = 0.178eV (T=1380K)  Etot = -34.520eV\n",
      "Energy per atom: Epot = -34.700eV  Ekin = 0.180eV (T=1390K)  Etot = -34.520eV\n",
      "Energy per atom: Epot = -34.701eV  Ekin = 0.182eV (T=1405K)  Etot = -34.520eV\n",
      "Energy per atom: Epot = -34.703eV  Ekin = 0.184eV (T=1420K)  Etot = -34.520eV\n",
      "Energy per atom: Epot = -34.705eV  Ekin = 0.187eV (T=1446K)  Etot = -34.519eV\n",
      "Energy per atom: Epot = -34.708eV  Ekin = 0.190eV (T=1466K)  Etot = -34.518eV\n",
      "Energy per atom: Epot = -34.711eV  Ekin = 0.193eV (T=1490K)  Etot = -34.518eV\n",
      "Step = 90, time = 90.0 [fs], T = 1516.9294941034934 [K]\n",
      "Energy per atom: Epot = -34.713eV  Ekin = 0.196eV (T=1517K)  Etot = -34.517eV\n",
      "Energy per atom: Epot = -34.716eV  Ekin = 0.199eV (T=1536K)  Etot = -34.518eV\n",
      "Energy per atom: Epot = -34.719eV  Ekin = 0.201eV (T=1555K)  Etot = -34.518eV\n",
      "Energy per atom: Epot = -34.721eV  Ekin = 0.203eV (T=1569K)  Etot = -34.518eV\n",
      "Energy per atom: Epot = -34.723eV  Ekin = 0.205eV (T=1587K)  Etot = -34.518eV\n",
      "Energy per atom: Epot = -34.724eV  Ekin = 0.206eV (T=1596K)  Etot = -34.518eV\n",
      "Energy per atom: Epot = -34.725eV  Ekin = 0.207eV (T=1598K)  Etot = -34.519eV\n",
      "Energy per atom: Epot = -34.726eV  Ekin = 0.207eV (T=1604K)  Etot = -34.519eV\n",
      "Energy per atom: Epot = -34.726eV  Ekin = 0.207eV (T=1600K)  Etot = -34.519eV\n",
      "Energy per atom: Epot = -34.725eV  Ekin = 0.207eV (T=1599K)  Etot = -34.518eV\n"
     ]
    },
    {
     "name": "stdout",
     "output_type": "stream",
     "text": [
      "Step = 100, time = 100.00000000000001 [fs], T = 1584.1973113365673 [K]\n",
      "Energy per atom: Epot = -34.723eV  Ekin = 0.205eV (T=1584K)  Etot = -34.518eV\n"
     ]
    },
    {
     "data": {
      "text/plain": [
       "True"
      ]
     },
     "execution_count": 6,
     "metadata": {},
     "output_type": "execute_result"
    }
   ],
   "source": [
    "dynamics.run(steps=100)\n",
    "\n",
    "# for _ in range(150):\n",
    "#     dynamics.run(steps=1)"
   ]
  },
  {
   "cell_type": "code",
   "execution_count": 8,
   "metadata": {
    "ExecuteTime": {
     "end_time": "2019-09-25T22:42:50.108701Z",
     "start_time": "2019-09-25T22:42:49.877189Z"
    },
    "scrolled": true
   },
   "outputs": [
    {
     "data": {
      "application/vnd.jupyter.widget-view+json": {
       "model_id": "d7623a4d69d04fd9b5803ae8dfc3b21a",
       "version_major": 2,
       "version_minor": 0
      },
      "text/plain": [
       "NGLWidget()"
      ]
     },
     "metadata": {},
     "output_type": "display_data"
    }
   ],
   "source": [
    "view = ViewStructure(atoms)\n",
    "view"
   ]
  },
  {
   "cell_type": "markdown",
   "metadata": {},
   "source": [
    "## Using descriptors\n",
    "\n",
    "In this section we will intorduce some descriptors which could be useful for describing local atomic enviroments\n",
    "\n",
    "You can find more details in the [descriptor tutorial](./quippy-descriptor-tutorial.ipynb)."
   ]
  },
  {
   "cell_type": "markdown",
   "metadata": {},
   "source": [
    "## Pairwise\n",
    "\n",
    "Here we use a simple pair distance between Silicon atoms, with a cutoff of 4.0 Angstrom. There are several descriptors that can do this, one is distance_2b, which takes a cutoff argument. Alternatively, the distance_Nb descriptor could also do this, with order=2. This is more general, order=3 is a triangle-like three-body descriptor of the three sides of a triangle of 3 atoms."
   ]
  },
  {
   "cell_type": "code",
   "execution_count": 7,
   "metadata": {
    "ExecuteTime": {
     "end_time": "2019-09-25T22:42:50.147192Z",
     "start_time": "2019-09-25T22:42:50.113989Z"
    }
   },
   "outputs": [],
   "source": [
    "desc = Descriptor(\"distance_Nb order=2 cutoff=4.0 n_Z=1 Zs={14}\")"
   ]
  },
  {
   "cell_type": "markdown",
   "metadata": {},
   "source": [
    "This descriptor is very simple: it is scalar (dimension 1), and hence only has a two (but equivalent) permutations."
   ]
  },
  {
   "cell_type": "code",
   "execution_count": 9,
   "metadata": {
    "ExecuteTime": {
     "end_time": "2019-09-25T22:42:50.175572Z",
     "start_time": "2019-09-25T22:42:50.163656Z"
    },
    "scrolled": true
   },
   "outputs": [
    {
     "data": {
      "text/plain": [
       "2"
      ]
     },
     "execution_count": 9,
     "metadata": {},
     "output_type": "execute_result"
    }
   ],
   "source": [
    "desc.n_perm"
   ]
  },
  {
   "cell_type": "code",
   "execution_count": 10,
   "metadata": {
    "ExecuteTime": {
     "end_time": "2019-09-25T22:42:50.228379Z",
     "start_time": "2019-09-25T22:42:50.196907Z"
    }
   },
   "outputs": [
    {
     "data": {
      "text/plain": [
       "4.0"
      ]
     },
     "execution_count": 10,
     "metadata": {},
     "output_type": "execute_result"
    }
   ],
   "source": [
    "desc.cutoff()"
   ]
  },
  {
   "cell_type": "code",
   "execution_count": 11,
   "metadata": {
    "ExecuteTime": {
     "end_time": "2019-09-25T22:42:50.257858Z",
     "start_time": "2019-09-25T22:42:50.238776Z"
    }
   },
   "outputs": [
    {
     "data": {
      "text/plain": [
       "array([[1],\n",
       "       [1]], dtype=int32)"
      ]
     },
     "execution_count": 11,
     "metadata": {},
     "output_type": "execute_result"
    }
   ],
   "source": [
    "desc.permutations() # array of permutation arrays\n"
   ]
  },
  {
   "cell_type": "markdown",
   "metadata": {},
   "source": [
    "Many descriptors rely on the neighbour connectivity, so we need to call calc_connect, after setting the Atoms cutoff:"
   ]
  },
  {
   "cell_type": "code",
   "execution_count": 12,
   "metadata": {
    "ExecuteTime": {
     "end_time": "2019-09-25T22:42:50.278714Z",
     "start_time": "2019-09-25T22:42:50.264308Z"
    },
    "scrolled": true
   },
   "outputs": [
    {
     "data": {
      "text/plain": [
       "4.0"
      ]
     },
     "execution_count": 12,
     "metadata": {},
     "output_type": "execute_result"
    }
   ],
   "source": [
    "desc.cutoff()"
   ]
  },
  {
   "cell_type": "markdown",
   "metadata": {},
   "source": [
    "We can now calculate how many instances of this descriptor are found in an Atoms (or ASEAtoms) object:"
   ]
  },
  {
   "cell_type": "code",
   "execution_count": 13,
   "metadata": {
    "ExecuteTime": {
     "end_time": "2019-09-25T22:42:50.314858Z",
     "start_time": "2019-09-25T22:42:50.290906Z"
    }
   },
   "outputs": [
    {
     "data": {
      "text/plain": [
       "195"
      ]
     },
     "execution_count": 13,
     "metadata": {},
     "output_type": "execute_result"
    }
   ],
   "source": [
    "desc.count(atoms)"
   ]
  },
  {
   "cell_type": "markdown",
   "metadata": {},
   "source": [
    "This also works transparently for iterables (such as lists), returning a list of the counts.\n",
    "\n",
    "We can also calculate the actual descriptor values – in this case, the list of pairwise distances:"
   ]
  },
  {
   "cell_type": "code",
   "execution_count": 14,
   "metadata": {
    "ExecuteTime": {
     "end_time": "2019-09-25T22:42:50.541321Z",
     "start_time": "2019-09-25T22:42:50.319855Z"
    },
    "scrolled": false
   },
   "outputs": [
    {
     "data": {
      "text/plain": [
       "{'covariance_cutoff': array([1.00000000e+00, 2.14658119e-01, 2.14658119e-01, 3.19795982e-01,\n",
       "        6.76831904e-01, 2.14658119e-01, 2.14658119e-01, 1.00000000e+00,\n",
       "        1.92216892e-01, 1.00000000e+00, 2.14658119e-01, 2.14658119e-01,\n",
       "        1.00000000e+00, 5.49473573e-01, 1.02669964e-01, 1.00000000e+00,\n",
       "        2.14658119e-01, 2.14658119e-01, 4.28565697e-03, 1.00000000e+00,\n",
       "        5.32303157e-01, 5.65893474e-02, 3.17080099e-02, 2.14658119e-01,\n",
       "        2.14658119e-01, 7.67705096e-02, 3.88763394e-01, 1.00000000e+00,\n",
       "        2.05886791e-01, 5.65694781e-02, 1.00000000e+00, 2.14658119e-01,\n",
       "        2.14658119e-01, 1.00000000e+00, 3.82420324e-01, 1.00000000e+00,\n",
       "        1.54120671e-01, 4.61381664e-01, 1.00000000e+00, 2.79930187e-01,\n",
       "        3.74608882e-02, 1.00000000e+00, 5.43735112e-01, 2.22676798e-01,\n",
       "        1.00000000e+00, 1.94241936e-03, 9.23567078e-02, 2.15915262e-01,\n",
       "        3.36721166e-01, 1.00000000e+00, 1.21132692e-01, 1.00000000e+00,\n",
       "        3.58304355e-07, 1.00000000e+00, 2.24123678e-01, 2.77061373e-01,\n",
       "        2.80646672e-01, 1.98700480e-01, 7.47843261e-03, 3.55383746e-01,\n",
       "        4.82663392e-01, 4.63363201e-01, 1.00000000e+00, 7.31119629e-01,\n",
       "        8.12121535e-01, 1.29910737e-04, 1.00000000e+00, 5.64990697e-01,\n",
       "        1.00000000e+00, 2.94266750e-01, 1.00000000e+00, 2.14658119e-01,\n",
       "        2.14658119e-01, 2.41870408e-01, 1.93580589e-01, 3.00766038e-01,\n",
       "        1.00000000e+00, 2.14658119e-01, 2.14658119e-01, 1.00000000e+00,\n",
       "        2.45323210e-01, 1.35810322e-01, 1.00000000e+00, 4.99366690e-01,\n",
       "        1.00000000e+00, 4.07558015e-01, 2.48598177e-01, 2.40033659e-01,\n",
       "        5.30349415e-02, 1.00000000e+00, 1.21403216e-03, 5.31963558e-01,\n",
       "        1.00000000e+00, 4.37361512e-01, 4.86924235e-01, 6.35407188e-04,\n",
       "        1.95029239e-01, 2.01308916e-01, 2.54279797e-01, 1.00000000e+00,\n",
       "        2.13940396e-02, 7.81557677e-01, 3.52627916e-01, 1.00000000e+00,\n",
       "        5.13536101e-01, 3.56120536e-03, 1.00000000e+00, 3.41233014e-01,\n",
       "        1.00000000e+00, 9.33811941e-02, 4.52377357e-01, 1.73666341e-01,\n",
       "        3.69737937e-01, 1.00000000e+00, 7.95747496e-01, 1.00000000e+00,\n",
       "        8.94305809e-01, 1.00000000e+00, 8.04260023e-01, 8.00779320e-02,\n",
       "        8.54949876e-04, 9.38301918e-01, 1.00000000e+00, 1.00000000e+00,\n",
       "        4.36305075e-01, 1.00000000e+00, 5.94272437e-01, 9.55462366e-01,\n",
       "        1.00000000e+00, 4.98640668e-02, 1.33190168e-01, 1.00000000e+00,\n",
       "        5.08484433e-02, 3.89366516e-01, 3.49320447e-01, 8.44153921e-03,\n",
       "        3.14779079e-02, 6.41430079e-01, 1.00000000e+00, 8.59094150e-02,\n",
       "        1.00000000e+00, 1.00000000e+00, 9.91037595e-01, 1.00000000e+00,\n",
       "        1.00000000e+00, 1.00000000e+00, 8.45588201e-04, 1.00000000e+00,\n",
       "        4.74170888e-01, 5.87505224e-01, 1.00000000e+00, 1.00000000e+00,\n",
       "        1.69943827e-01, 3.45605498e-03, 1.00000000e+00, 4.54327107e-02,\n",
       "        2.86809177e-01, 5.51354402e-02, 1.00000000e+00, 9.76859456e-01,\n",
       "        1.69917382e-01, 1.00000000e+00, 1.00000000e+00, 1.90527971e-01,\n",
       "        1.00000000e+00, 1.11961385e-01, 3.22921131e-01, 2.01862861e-01,\n",
       "        9.90932063e-01, 7.02045644e-04, 1.00000000e+00, 7.00340799e-01,\n",
       "        9.03175475e-01, 1.00000000e+00, 1.00000000e+00, 3.64596170e-01,\n",
       "        1.00000000e+00, 1.00000000e+00, 1.00000000e+00, 5.65314580e-02,\n",
       "        2.78732909e-03, 8.27119934e-01, 9.07878534e-02, 1.00000000e+00,\n",
       "        1.00000000e+00, 1.00000000e+00, 1.00000000e+00, 4.67164136e-01,\n",
       "        5.46809634e-01, 1.00000000e+00, 1.00000000e+00, 1.00000000e+00,\n",
       "        3.36143932e-01, 1.00000000e+00, 1.00000000e+00]),\n",
       " 'data': array([[2.3555891 ],\n",
       "        [3.84666089],\n",
       "        [3.84666089],\n",
       "        [3.80868127],\n",
       "        [3.69246785],\n",
       "        [3.84666089],\n",
       "        [3.84666089],\n",
       "        [2.3555891 ],\n",
       "        [3.85553632],\n",
       "        [2.3555891 ],\n",
       "        [3.84666089],\n",
       "        [3.84666089],\n",
       "        [2.22217899],\n",
       "        [3.73422626],\n",
       "        [3.89617545],\n",
       "        [2.49277209],\n",
       "        [3.84666089],\n",
       "        [3.84666089],\n",
       "        [3.97914695],\n",
       "        [2.3555891 ],\n",
       "        [3.73971042],\n",
       "        [3.92354581],\n",
       "        [3.94301548],\n",
       "        [3.84666089],\n",
       "        [3.84666089],\n",
       "        [3.91063498],\n",
       "        [3.7857065 ],\n",
       "        [2.36400224],\n",
       "        [3.85008681],\n",
       "        [3.9235595 ],\n",
       "        [2.3555891 ],\n",
       "        [3.84666089],\n",
       "        [3.84666089],\n",
       "        [2.40113644],\n",
       "        [3.7877806 ],\n",
       "        [2.53888377],\n",
       "        [3.8715819 ],\n",
       "        [3.76230485],\n",
       "        [2.33638577],\n",
       "        [3.82253553],\n",
       "        [3.93800043],\n",
       "        [2.60488918],\n",
       "        [3.73606087],\n",
       "        [3.84357323],\n",
       "        [2.26074713],\n",
       "        [3.98596662],\n",
       "        [3.9017103 ],\n",
       "        [3.8461741 ],\n",
       "        [3.80294437],\n",
       "        [2.47055579],\n",
       "        [3.88684692],\n",
       "        [2.62747264],\n",
       "        [3.99980946],\n",
       "        [2.36771171],\n",
       "        [3.84302037],\n",
       "        [3.82355411],\n",
       "        [3.82228164],\n",
       "        [3.85293408],\n",
       "        [3.97243879],\n",
       "        [3.79670004],\n",
       "        [3.75551952],\n",
       "        [3.76167232],\n",
       "        [2.31773498],\n",
       "        [3.67352306],\n",
       "        [3.64270374],\n",
       "        [3.99637188],\n",
       "        [2.40507651],\n",
       "        [3.72925412],\n",
       "        [2.31755331],\n",
       "        [3.81749164],\n",
       "        [2.3555891 ],\n",
       "        [3.84666089],\n",
       "        [3.84666089],\n",
       "        [3.83633794],\n",
       "        [3.85498626],\n",
       "        [3.81522899],\n",
       "        [2.3555891 ],\n",
       "        [3.84666089],\n",
       "        [3.84666089],\n",
       "        [2.30939588],\n",
       "        [3.83505773],\n",
       "        [3.87986306],\n",
       "        [2.32869864],\n",
       "        [3.75020159],\n",
       "        [2.3555891 ],\n",
       "        [3.77959547],\n",
       "        [3.83384906],\n",
       "        [3.83702149],\n",
       "        [3.92603149],\n",
       "        [2.36423329],\n",
       "        [3.98890689],\n",
       "        [3.73981874],\n",
       "        [2.27209347],\n",
       "        [3.76999098],\n",
       "        [3.75416262],\n",
       "        [3.99197542],\n",
       "        [3.85440354],\n",
       "        [3.85189622],\n",
       "        [3.83176472],\n",
       "        [2.39676208],\n",
       "        [3.95327413],\n",
       "        [3.65480133],\n",
       "        [3.79761721],\n",
       "        [2.22444622],\n",
       "        [3.7456908 ],\n",
       "        [3.9809933 ],\n",
       "        [2.49686031],\n",
       "        [3.80142738],\n",
       "        [2.19958857],\n",
       "        [3.90114853],\n",
       "        [3.76518177],\n",
       "        [3.86317503],\n",
       "        [3.79194768],\n",
       "        [2.25435087],\n",
       "        [3.64926897],\n",
       "        [2.25125141],\n",
       "        [3.60540013],\n",
       "        [2.36655307],\n",
       "        [3.64588175],\n",
       "        [3.90867685],\n",
       "        [3.99069144],\n",
       "        [3.57990177],\n",
       "        [2.49540074],\n",
       "        [2.33260675],\n",
       "        [3.77032997],\n",
       "        [2.57787592],\n",
       "        [3.71981145],\n",
       "        [3.56768484],\n",
       "        [2.45117234],\n",
       "        [3.92831618],\n",
       "        [3.8810853 ],\n",
       "        [2.34442646],\n",
       "        [3.92759974],\n",
       "        [3.78550961],\n",
       "        [3.79872015],\n",
       "        [3.97071307],\n",
       "        [3.94322485],\n",
       "        [3.70435838],\n",
       "        [2.38005406],\n",
       "        [3.90531209],\n",
       "        [3.33083172],\n",
       "        [2.59003818],\n",
       "        [3.53017959],\n",
       "        [2.29630022],\n",
       "        [2.74641565],\n",
       "        [2.19697139],\n",
       "        [3.99074256],\n",
       "        [2.79562658],\n",
       "        [3.75822532],\n",
       "        [3.72200204],\n",
       "        [2.42958642],\n",
       "        [2.24231016],\n",
       "        [3.86474567],\n",
       "        [3.98127633],\n",
       "        [2.16858341],\n",
       "        [3.93162786],\n",
       "        [3.82010597],\n",
       "        [3.92455341],\n",
       "        [3.28211822],\n",
       "        [3.54861007],\n",
       "        [3.86475688],\n",
       "        [2.37536444],\n",
       "        [2.17973943],\n",
       "        [3.85621962],\n",
       "        [2.50414849],\n",
       "        [3.89139667],\n",
       "        [3.8076162 ],\n",
       "        [3.85167646],\n",
       "        [3.53035729],\n",
       "        [3.99156503],\n",
       "        [2.23884873],\n",
       "        [3.68438668],\n",
       "        [3.60071965],\n",
       "        [2.22916798],\n",
       "        [3.21656615],\n",
       "        [3.79364537],\n",
       "        [2.65405253],\n",
       "        [2.70398075],\n",
       "        [2.36119845],\n",
       "        [3.9235857 ],\n",
       "        [3.98318696],\n",
       "        [3.63649434],\n",
       "        [3.90257603],\n",
       "        [2.24663903],\n",
       "        [3.1391255 ],\n",
       "        [3.44058309],\n",
       "        [2.17928047],\n",
       "        [3.76045951],\n",
       "        [3.73507818],\n",
       "        [2.88693146],\n",
       "        [2.27590978],\n",
       "        [3.39213771],\n",
       "        [3.80313881],\n",
       "        [3.14584918],\n",
       "        [2.44039581]]),\n",
       " 'has_data': array([1, 1, 1, 1, 1, 1, 1, 1, 1, 1, 1, 1, 1, 1, 1, 1, 1, 1, 1, 1, 1, 1,\n",
       "        1, 1, 1, 1, 1, 1, 1, 1, 1, 1, 1, 1, 1, 1, 1, 1, 1, 1, 1, 1, 1, 1,\n",
       "        1, 1, 1, 1, 1, 1, 1, 1, 1, 1, 1, 1, 1, 1, 1, 1, 1, 1, 1, 1, 1, 1,\n",
       "        1, 1, 1, 1, 1, 1, 1, 1, 1, 1, 1, 1, 1, 1, 1, 1, 1, 1, 1, 1, 1, 1,\n",
       "        1, 1, 1, 1, 1, 1, 1, 1, 1, 1, 1, 1, 1, 1, 1, 1, 1, 1, 1, 1, 1, 1,\n",
       "        1, 1, 1, 1, 1, 1, 1, 1, 1, 1, 1, 1, 1, 1, 1, 1, 1, 1, 1, 1, 1, 1,\n",
       "        1, 1, 1, 1, 1, 1, 1, 1, 1, 1, 1, 1, 1, 1, 1, 1, 1, 1, 1, 1, 1, 1,\n",
       "        1, 1, 1, 1, 1, 1, 1, 1, 1, 1, 1, 1, 1, 1, 1, 1, 1, 1, 1, 1, 1, 1,\n",
       "        1, 1, 1, 1, 1, 1, 1, 1, 1, 1, 1, 1, 1, 1, 1, 1, 1, 1, 1])}"
      ]
     },
     "execution_count": 14,
     "metadata": {},
     "output_type": "execute_result"
    }
   ],
   "source": [
    "d = desc.calc(atoms)\n",
    "# for k,v in d.items():\n",
    "#     print(k)\n",
    "#     print(type(v))\n",
    "d"
   ]
  },
  {
   "cell_type": "markdown",
   "metadata": {},
   "source": [
    "Notice that the first array is called cutoff, and it supplies the value of a cutoff function, implicit in all descriptors, which takes the descriptor value to zero as the atoms approach the cutoff, i.e. in this case as the distance between the two atoms approaches the cutoff. It is more complicated for three-body and higher-body descriptors, but the final result is always a descriptor which changes smoothly with atomic positions.\n",
    "\n",
    "Here is a histogram of the resulting descriptor array, i.e. of the interatomic distances"
   ]
  },
  {
   "cell_type": "code",
   "execution_count": 15,
   "metadata": {
    "ExecuteTime": {
     "end_time": "2019-09-25T22:42:51.120942Z",
     "start_time": "2019-09-25T22:42:50.556799Z"
    }
   },
   "outputs": [
    {
     "data": {
      "image/png": "[encoded data removed]",
      "text/plain": [
       "<Figure size 432x288 with 1 Axes>"
      ]
     },
     "metadata": {
      "needs_background": "light"
     },
     "output_type": "display_data"
    }
   ],
   "source": [
    "plt.hist(d['data'], bins=40)\n",
    "plt.show()"
   ]
  },
  {
   "cell_type": "markdown",
   "metadata": {},
   "source": [
    "Calculate size of descriptor data:\n"
   ]
  },
  {
   "cell_type": "code",
   "execution_count": 16,
   "metadata": {
    "ExecuteTime": {
     "end_time": "2019-09-25T22:42:51.251122Z",
     "start_time": "2019-09-25T22:42:51.125693Z"
    }
   },
   "outputs": [
    {
     "data": {
      "text/plain": [
       "(195, 390)"
      ]
     },
     "execution_count": 16,
     "metadata": {},
     "output_type": "execute_result"
    }
   ],
   "source": [
    "desc.sizes(atoms)"
   ]
  },
  {
   "cell_type": "code",
   "execution_count": 17,
   "metadata": {
    "ExecuteTime": {
     "end_time": "2019-09-25T22:42:51.282787Z",
     "start_time": "2019-09-25T22:42:51.255319Z"
    },
    "scrolled": true
   },
   "outputs": [
    {
     "name": "stdout",
     "output_type": "stream",
     "text": [
      "n_desc=195 n_cross=390\n"
     ]
    }
   ],
   "source": [
    "n_desc, n_cross = desc.sizes(atoms)\n",
    "print(\"n_desc=%d n_cross=%d\" % (n_desc, n_cross))"
   ]
  },
  {
   "cell_type": "code",
   "execution_count": 18,
   "metadata": {
    "ExecuteTime": {
     "end_time": "2019-09-25T22:42:51.673427Z",
     "start_time": "2019-09-25T22:42:51.291495Z"
    }
   },
   "outputs": [
    {
     "data": {
      "text/plain": [
       "<matplotlib.image.AxesImage at 0x11ce3d2e8>"
      ]
     },
     "execution_count": 18,
     "metadata": {},
     "output_type": "execute_result"
    },
    {
     "data": {
      "image/png": "[encoded data removed]",
      "text/plain": [
       "<Figure size 288x1152 with 1 Axes>"
      ]
     },
     "metadata": {
      "needs_background": "light"
     },
     "output_type": "display_data"
    }
   ],
   "source": [
    "plt.matshow(d['data'])"
   ]
  },
  {
   "cell_type": "markdown",
   "metadata": {},
   "source": [
    "## SOAP descriptor\n",
    "\n",
    "We will describe the environment using the SOAP descriptor. The SOAP descriptor of an atomic environment is based on a spherical harmonic expansion of the neighbour density, and truncating this expansion at some maximum numer of radial (n_max) and angular (l_max) indices gives rise to some parameters. We also need to give the cutoff within which we consider the neighbour environment.\n",
    "\n",
    "Writing the descriptor vector as $p_{ss'nn'l}$, where $s$ and $s'$ are indices that run over the different atomic species in the atom's environment, $n$ and $n'$ are radial and $l$ is an angular index."
   ]
  },
  {
   "cell_type": "code",
   "execution_count": 19,
   "metadata": {
    "ExecuteTime": {
     "end_time": "2019-09-25T22:42:51.992618Z",
     "start_time": "2019-09-25T22:42:51.764995Z"
    },
    "scrolled": true
   },
   "outputs": [],
   "source": [
    "desc = Descriptor(\"soap cutoff=4 l_max=3 n_max=4 normalize=T atom_sigma=0.5 n_Z=1 Z={14} \")"
   ]
  },
  {
   "cell_type": "markdown",
   "metadata": {},
   "source": [
    "There are now only 32 descriptors, because SOAP produces one for each atom in the structure"
   ]
  },
  {
   "cell_type": "code",
   "execution_count": 20,
   "metadata": {
    "ExecuteTime": {
     "end_time": "2019-09-25T22:42:52.137338Z",
     "start_time": "2019-09-25T22:42:52.042193Z"
    }
   },
   "outputs": [
    {
     "data": {
      "text/plain": [
       "(32, 422)"
      ]
     },
     "execution_count": 20,
     "metadata": {},
     "output_type": "execute_result"
    }
   ],
   "source": [
    "desc.sizes(atoms)\n"
   ]
  },
  {
   "cell_type": "markdown",
   "metadata": {},
   "source": [
    "But each descriptor now is a long vector, because it encodes the entire environment of the atom up to the cutoff. The length of the vector depends on l_max and n_max and also on the number of atom types."
   ]
  },
  {
   "cell_type": "code",
   "execution_count": 21,
   "metadata": {
    "ExecuteTime": {
     "end_time": "2019-09-25T22:42:52.209042Z",
     "start_time": "2019-09-25T22:42:52.141414Z"
    }
   },
   "outputs": [
    {
     "data": {
      "text/plain": [
       "{'covariance_cutoff': array([1., 1., 1., 1., 1., 1., 1., 1., 1., 1., 1., 1., 1., 1., 1., 1., 1.,\n",
       "        1., 1., 1., 1., 1., 1., 1., 1., 1., 1., 1., 1., 1., 1., 1.]),\n",
       " 'data': array([[8.72484873e-01, 1.34159734e-04, 1.36705926e-04, ...,\n",
       "         2.59809734e-08, 1.14112318e-08, 0.00000000e+00],\n",
       "        [7.59438258e-01, 2.64988180e-05, 2.06399928e-05, ...,\n",
       "         1.47470244e-08, 3.98299197e-09, 0.00000000e+00],\n",
       "        [8.98417344e-01, 1.38097131e-04, 1.40770407e-04, ...,\n",
       "         1.20256730e-08, 2.19962174e-09, 0.00000000e+00],\n",
       "        ...,\n",
       "        [5.38846271e-01, 2.19806777e-05, 2.34697590e-04, ...,\n",
       "         1.34797058e-07, 1.20892097e-07, 0.00000000e+00],\n",
       "        [7.09890531e-01, 7.00599810e-05, 1.33968447e-04, ...,\n",
       "         4.63712579e-08, 2.52251585e-08, 0.00000000e+00],\n",
       "        [7.21058218e-01, 8.57141183e-05, 5.79089330e-05, ...,\n",
       "         8.82576223e-08, 3.07146036e-08, 0.00000000e+00]]),\n",
       " 'has_data': array([1, 1, 1, 1, 1, 1, 1, 1, 1, 1, 1, 1, 1, 1, 1, 1, 1, 1, 1, 1, 1, 1,\n",
       "        1, 1, 1, 1, 1, 1, 1, 1, 1, 1])}"
      ]
     },
     "execution_count": 21,
     "metadata": {},
     "output_type": "execute_result"
    }
   ],
   "source": [
    "d = desc.calc(atoms)\n",
    "d"
   ]
  },
  {
   "cell_type": "markdown",
   "metadata": {},
   "source": [
    "We can visualise the values of the descriptor to have an idea of how vector looks like:"
   ]
  },
  {
   "cell_type": "code",
   "execution_count": 22,
   "metadata": {
    "ExecuteTime": {
     "end_time": "2019-09-25T22:42:52.559195Z",
     "start_time": "2019-09-25T22:42:52.226764Z"
    },
    "scrolled": true
   },
   "outputs": [
    {
     "data": {
      "text/plain": [
       "<matplotlib.image.AxesImage at 0x11d05a7b8>"
      ]
     },
     "execution_count": 22,
     "metadata": {},
     "output_type": "execute_result"
    },
    {
     "data": {
      "image/png": "[encoded data removed]",
      "text/plain": [
       "<Figure size 369x288 with 1 Axes>"
      ]
     },
     "metadata": {
      "needs_background": "light"
     },
     "output_type": "display_data"
    }
   ],
   "source": [
    "plt.matshow(d['data'])"
   ]
  },
  {
   "cell_type": "markdown",
   "metadata": {},
   "source": [
    "## Part II: GAP: fitting, comparing different descriptors \n"
   ]
  },
  {
   "cell_type": "markdown",
   "metadata": {},
   "source": [
    "## Database\n",
    "\n",
    "Let's run the MD to generate configurations for the training:"
   ]
  },
  {
   "cell_type": "code",
   "execution_count": 25,
   "metadata": {
    "ExecuteTime": {
     "end_time": "2019-09-25T22:45:02.171962Z",
     "start_time": "2019-09-25T22:42:52.575928Z"
    },
    "scrolled": false
   },
   "outputs": [
    {
     "name": "stdout",
     "output_type": "stream",
     "text": [
      "Energy per atom: Epot = -34.670eV  Ekin = 0.142eV (T=1100K)  Etot = -34.528eV\n",
      "Energy per atom: Epot = -34.671eV  Ekin = 0.143eV (T=1106K)  Etot = -34.528eV\n",
      "Energy per atom: Epot = -34.673eV  Ekin = 0.146eV (T=1127K)  Etot = -34.528eV\n",
      "Energy per atom: Epot = -34.675eV  Ekin = 0.147eV (T=1140K)  Etot = -34.528eV\n",
      "Energy per atom: Epot = -34.677eV  Ekin = 0.149eV (T=1152K)  Etot = -34.528eV\n",
      "Energy per atom: Epot = -34.679eV  Ekin = 0.151eV (T=1169K)  Etot = -34.528eV\n",
      "Energy per atom: Epot = -34.681eV  Ekin = 0.153eV (T=1181K)  Etot = -34.528eV\n",
      "Energy per atom: Epot = -34.682eV  Ekin = 0.154eV (T=1188K)  Etot = -34.529eV\n",
      "Energy per atom: Epot = -34.684eV  Ekin = 0.155eV (T=1202K)  Etot = -34.529eV\n",
      "Step = 610, time = 610.0 [fs], T = 1213.4776009435961 [K]\n",
      "Energy per atom: Epot = -34.685eV  Ekin = 0.157eV (T=1213K)  Etot = -34.529eV\n",
      "Energy per atom: Epot = -34.687eV  Ekin = 0.159eV (T=1228K)  Etot = -34.528eV\n",
      "Energy per atom: Epot = -34.688eV  Ekin = 0.161eV (T=1242K)  Etot = -34.527eV\n",
      "Energy per atom: Epot = -34.689eV  Ekin = 0.162eV (T=1250K)  Etot = -34.527eV\n",
      "Energy per atom: Epot = -34.690eV  Ekin = 0.161eV (T=1248K)  Etot = -34.528eV\n",
      "Energy per atom: Epot = -34.690eV  Ekin = 0.161eV (T=1245K)  Etot = -34.529eV\n",
      "Energy per atom: Epot = -34.690eV  Ekin = 0.161eV (T=1249K)  Etot = -34.529eV\n",
      "Energy per atom: Epot = -34.690eV  Ekin = 0.163eV (T=1258K)  Etot = -34.527eV\n",
      "Energy per atom: Epot = -34.689eV  Ekin = 0.162eV (T=1254K)  Etot = -34.527eV\n",
      "Energy per atom: Epot = -34.689eV  Ekin = 0.160eV (T=1241K)  Etot = -34.528eV\n",
      "Step = 620, time = 620.0 [fs], T = 1234.2040826926918 [K]\n",
      "Energy per atom: Epot = -34.688eV  Ekin = 0.160eV (T=1234K)  Etot = -34.528eV\n",
      "Energy per atom: Epot = -34.686eV  Ekin = 0.159eV (T=1228K)  Etot = -34.528eV\n",
      "Energy per atom: Epot = -34.685eV  Ekin = 0.157eV (T=1212K)  Etot = -34.528eV\n",
      "Energy per atom: Epot = -34.683eV  Ekin = 0.156eV (T=1204K)  Etot = -34.527eV\n",
      "Energy per atom: Epot = -34.680eV  Ekin = 0.152eV (T=1179K)  Etot = -34.528eV\n",
      "Energy per atom: Epot = -34.678eV  Ekin = 0.151eV (T=1166K)  Etot = -34.527eV\n",
      "Energy per atom: Epot = -34.675eV  Ekin = 0.148eV (T=1145K)  Etot = -34.527eV\n",
      "Energy per atom: Epot = -34.673eV  Ekin = 0.145eV (T=1121K)  Etot = -34.528eV\n",
      "Energy per atom: Epot = -34.670eV  Ekin = 0.143eV (T=1103K)  Etot = -34.527eV\n",
      "Energy per atom: Epot = -34.667eV  Ekin = 0.140eV (T=1085K)  Etot = -34.527eV\n",
      "Step = 630, time = 630.0 [fs], T = 1069.8250497127774 [K]\n",
      "Energy per atom: Epot = -34.665eV  Ekin = 0.138eV (T=1070K)  Etot = -34.527eV\n",
      "Energy per atom: Epot = -34.663eV  Ekin = 0.136eV (T=1054K)  Etot = -34.527eV\n",
      "Energy per atom: Epot = -34.661eV  Ekin = 0.135eV (T=1043K)  Etot = -34.527eV\n",
      "Energy per atom: Epot = -34.660eV  Ekin = 0.133eV (T=1025K)  Etot = -34.528eV\n",
      "Energy per atom: Epot = -34.659eV  Ekin = 0.131eV (T=1014K)  Etot = -34.528eV\n",
      "Energy per atom: Epot = -34.659eV  Ekin = 0.130eV (T=1009K)  Etot = -34.528eV\n",
      "Energy per atom: Epot = -34.659eV  Ekin = 0.130eV (T=1009K)  Etot = -34.529eV\n",
      "Energy per atom: Epot = -34.660eV  Ekin = 0.131eV (T=1015K)  Etot = -34.528eV\n",
      "Energy per atom: Epot = -34.661eV  Ekin = 0.132eV (T=1024K)  Etot = -34.528eV\n",
      "Energy per atom: Epot = -34.663eV  Ekin = 0.134eV (T=1040K)  Etot = -34.528eV\n",
      "Step = 640, time = 640.0 [fs], T = 1061.3536445382422 [K]\n",
      "Energy per atom: Epot = -34.665eV  Ekin = 0.137eV (T=1061K)  Etot = -34.528eV\n",
      "Energy per atom: Epot = -34.667eV  Ekin = 0.140eV (T=1081K)  Etot = -34.528eV\n",
      "Energy per atom: Epot = -34.670eV  Ekin = 0.143eV (T=1108K)  Etot = -34.527eV\n",
      "Energy per atom: Epot = -34.674eV  Ekin = 0.146eV (T=1132K)  Etot = -34.527eV\n",
      "Energy per atom: Epot = -34.677eV  Ekin = 0.150eV (T=1160K)  Etot = -34.527eV\n",
      "Energy per atom: Epot = -34.681eV  Ekin = 0.155eV (T=1199K)  Etot = -34.526eV\n",
      "Energy per atom: Epot = -34.684eV  Ekin = 0.158eV (T=1225K)  Etot = -34.526eV\n",
      "Energy per atom: Epot = -34.687eV  Ekin = 0.162eV (T=1254K)  Etot = -34.525eV\n",
      "Energy per atom: Epot = -34.690eV  Ekin = 0.164eV (T=1273K)  Etot = -34.525eV\n",
      "Energy per atom: Epot = -34.693eV  Ekin = 0.168eV (T=1296K)  Etot = -34.525eV\n",
      "Step = 650, time = 650.0 [fs], T = 1316.4452722651693 [K]\n",
      "Energy per atom: Epot = -34.695eV  Ekin = 0.170eV (T=1316K)  Etot = -34.525eV\n",
      "Energy per atom: Epot = -34.697eV  Ekin = 0.172eV (T=1328K)  Etot = -34.525eV\n",
      "Energy per atom: Epot = -34.698eV  Ekin = 0.173eV (T=1339K)  Etot = -34.525eV\n",
      "Energy per atom: Epot = -34.699eV  Ekin = 0.173eV (T=1337K)  Etot = -34.526eV\n",
      "Energy per atom: Epot = -34.700eV  Ekin = 0.173eV (T=1342K)  Etot = -34.526eV\n",
      "Energy per atom: Epot = -34.700eV  Ekin = 0.174eV (T=1343K)  Etot = -34.526eV\n",
      "Energy per atom: Epot = -34.700eV  Ekin = 0.174eV (T=1347K)  Etot = -34.526eV\n",
      "Energy per atom: Epot = -34.699eV  Ekin = 0.174eV (T=1344K)  Etot = -34.525eV\n",
      "Energy per atom: Epot = -34.698eV  Ekin = 0.173eV (T=1339K)  Etot = -34.525eV\n",
      "Energy per atom: Epot = -34.697eV  Ekin = 0.171eV (T=1327K)  Etot = -34.525eV\n",
      "Step = 660, time = 660.0 [fs], T = 1309.8201527012045 [K]\n",
      "Energy per atom: Epot = -34.695eV  Ekin = 0.169eV (T=1310K)  Etot = -34.526eV\n",
      "Energy per atom: Epot = -34.693eV  Ekin = 0.166eV (T=1286K)  Etot = -34.527eV\n",
      "Energy per atom: Epot = -34.691eV  Ekin = 0.165eV (T=1274K)  Etot = -34.526eV\n",
      "Energy per atom: Epot = -34.689eV  Ekin = 0.162eV (T=1254K)  Etot = -34.527eV\n",
      "Energy per atom: Epot = -34.687eV  Ekin = 0.160eV (T=1237K)  Etot = -34.527eV\n",
      "Energy per atom: Epot = -34.684eV  Ekin = 0.159eV (T=1227K)  Etot = -34.526eV\n",
      "Energy per atom: Epot = -34.682eV  Ekin = 0.156eV (T=1206K)  Etot = -34.526eV\n",
      "Energy per atom: Epot = -34.680eV  Ekin = 0.154eV (T=1190K)  Etot = -34.526eV\n",
      "Energy per atom: Epot = -34.678eV  Ekin = 0.152eV (T=1175K)  Etot = -34.526eV\n",
      "Energy per atom: Epot = -34.676eV  Ekin = 0.151eV (T=1170K)  Etot = -34.525eV\n",
      "Step = 670, time = 670.0 [fs], T = 1161.851603014357 [K]\n",
      "Energy per atom: Epot = -34.675eV  Ekin = 0.150eV (T=1162K)  Etot = -34.525eV\n",
      "Energy per atom: Epot = -34.673eV  Ekin = 0.148eV (T=1149K)  Etot = -34.525eV\n",
      "Energy per atom: Epot = -34.672eV  Ekin = 0.147eV (T=1137K)  Etot = -34.525eV\n",
      "Energy per atom: Epot = -34.671eV  Ekin = 0.147eV (T=1137K)  Etot = -34.524eV\n",
      "Energy per atom: Epot = -34.670eV  Ekin = 0.145eV (T=1123K)  Etot = -34.525eV\n",
      "Energy per atom: Epot = -34.669eV  Ekin = 0.144eV (T=1116K)  Etot = -34.525eV\n",
      "Energy per atom: Epot = -34.669eV  Ekin = 0.143eV (T=1106K)  Etot = -34.526eV\n",
      "Energy per atom: Epot = -34.669eV  Ekin = 0.143eV (T=1104K)  Etot = -34.526eV\n",
      "Energy per atom: Epot = -34.669eV  Ekin = 0.143eV (T=1106K)  Etot = -34.526eV\n",
      "Energy per atom: Epot = -34.669eV  Ekin = 0.143eV (T=1109K)  Etot = -34.525eV\n",
      "Step = 680, time = 680.0 [fs], T = 1116.049981841541 [K]\n",
      "Energy per atom: Epot = -34.669eV  Ekin = 0.144eV (T=1116K)  Etot = -34.525eV\n",
      "Energy per atom: Epot = -34.669eV  Ekin = 0.145eV (T=1120K)  Etot = -34.525eV\n",
      "Energy per atom: Epot = -34.670eV  Ekin = 0.146eV (T=1129K)  Etot = -34.524eV\n",
      "Energy per atom: Epot = -34.670eV  Ekin = 0.147eV (T=1138K)  Etot = -34.523eV\n",
      "Energy per atom: Epot = -34.671eV  Ekin = 0.148eV (T=1144K)  Etot = -34.523eV\n",
      "Energy per atom: Epot = -34.671eV  Ekin = 0.147eV (T=1137K)  Etot = -34.524eV\n",
      "Energy per atom: Epot = -34.671eV  Ekin = 0.146eV (T=1133K)  Etot = -34.525eV\n",
      "Energy per atom: Epot = -34.672eV  Ekin = 0.147eV (T=1134K)  Etot = -34.525eV\n",
      "Energy per atom: Epot = -34.671eV  Ekin = 0.146eV (T=1133K)  Etot = -34.525eV\n",
      "Energy per atom: Epot = -34.671eV  Ekin = 0.147eV (T=1136K)  Etot = -34.524eV\n",
      "Step = 690, time = 689.9999999999999 [fs], T = 1138.1637640732908 [K]\n",
      "Energy per atom: Epot = -34.671eV  Ekin = 0.147eV (T=1138K)  Etot = -34.524eV\n",
      "Energy per atom: Epot = -34.670eV  Ekin = 0.146eV (T=1129K)  Etot = -34.524eV\n",
      "Energy per atom: Epot = -34.670eV  Ekin = 0.145eV (T=1120K)  Etot = -34.525eV\n",
      "Energy per atom: Epot = -34.669eV  Ekin = 0.145eV (T=1120K)  Etot = -34.524eV\n",
      "Energy per atom: Epot = -34.668eV  Ekin = 0.144eV (T=1112K)  Etot = -34.524eV\n",
      "Energy per atom: Epot = -34.667eV  Ekin = 0.142eV (T=1102K)  Etot = -34.524eV\n",
      "Energy per atom: Epot = -34.666eV  Ekin = 0.140eV (T=1084K)  Etot = -34.526eV\n",
      "Energy per atom: Epot = -34.665eV  Ekin = 0.140eV (T=1084K)  Etot = -34.525eV\n",
      "Energy per atom: Epot = -34.664eV  Ekin = 0.139eV (T=1072K)  Etot = -34.525eV\n",
      "Energy per atom: Epot = -34.663eV  Ekin = 0.137eV (T=1062K)  Etot = -34.526eV\n",
      "Step = 700, time = 700.0000000000001 [fs], T = 1054.1133918643613 [K]\n",
      "Energy per atom: Epot = -34.663eV  Ekin = 0.136eV (T=1054K)  Etot = -34.526eV\n",
      "Energy per atom: Epot = -34.662eV  Ekin = 0.137eV (T=1057K)  Etot = -34.525eV\n"
     ]
    },
    {
     "name": "stdout",
     "output_type": "stream",
     "text": [
      "Energy per atom: Epot = -34.662eV  Ekin = 0.135eV (T=1044K)  Etot = -34.527eV\n",
      "Energy per atom: Epot = -34.661eV  Ekin = 0.135eV (T=1044K)  Etot = -34.526eV\n",
      "Energy per atom: Epot = -34.661eV  Ekin = 0.135eV (T=1047K)  Etot = -34.526eV\n",
      "Energy per atom: Epot = -34.661eV  Ekin = 0.136eV (T=1051K)  Etot = -34.526eV\n",
      "Energy per atom: Epot = -34.662eV  Ekin = 0.136eV (T=1056K)  Etot = -34.525eV\n",
      "Energy per atom: Epot = -34.662eV  Ekin = 0.137eV (T=1062K)  Etot = -34.525eV\n",
      "Energy per atom: Epot = -34.663eV  Ekin = 0.138eV (T=1065K)  Etot = -34.526eV\n",
      "Energy per atom: Epot = -34.664eV  Ekin = 0.139eV (T=1075K)  Etot = -34.525eV\n",
      "Step = 710, time = 710.0 [fs], T = 1087.5729168770392 [K]\n",
      "Energy per atom: Epot = -34.666eV  Ekin = 0.141eV (T=1088K)  Etot = -34.525eV\n",
      "Energy per atom: Epot = -34.667eV  Ekin = 0.143eV (T=1106K)  Etot = -34.524eV\n",
      "Energy per atom: Epot = -34.669eV  Ekin = 0.144eV (T=1116K)  Etot = -34.525eV\n",
      "Energy per atom: Epot = -34.670eV  Ekin = 0.146eV (T=1130K)  Etot = -34.524eV\n",
      "Energy per atom: Epot = -34.672eV  Ekin = 0.148eV (T=1148K)  Etot = -34.524eV\n",
      "Energy per atom: Epot = -34.674eV  Ekin = 0.151eV (T=1167K)  Etot = -34.523eV\n",
      "Energy per atom: Epot = -34.676eV  Ekin = 0.153eV (T=1181K)  Etot = -34.524eV\n",
      "Energy per atom: Epot = -34.678eV  Ekin = 0.155eV (T=1203K)  Etot = -34.523eV\n",
      "Energy per atom: Epot = -34.680eV  Ekin = 0.158eV (T=1225K)  Etot = -34.522eV\n",
      "Energy per atom: Epot = -34.682eV  Ekin = 0.161eV (T=1244K)  Etot = -34.521eV\n",
      "Step = 720, time = 720.0 [fs], T = 1260.4486838568973 [K]\n",
      "Energy per atom: Epot = -34.684eV  Ekin = 0.163eV (T=1260K)  Etot = -34.521eV\n",
      "Energy per atom: Epot = -34.686eV  Ekin = 0.164eV (T=1271K)  Etot = -34.522eV\n",
      "Energy per atom: Epot = -34.688eV  Ekin = 0.167eV (T=1289K)  Etot = -34.521eV\n",
      "Energy per atom: Epot = -34.689eV  Ekin = 0.167eV (T=1292K)  Etot = -34.522eV\n",
      "Energy per atom: Epot = -34.690eV  Ekin = 0.168eV (T=1302K)  Etot = -34.522eV\n",
      "Energy per atom: Epot = -34.691eV  Ekin = 0.170eV (T=1318K)  Etot = -34.520eV\n",
      "Energy per atom: Epot = -34.691eV  Ekin = 0.171eV (T=1321K)  Etot = -34.521eV\n",
      "Energy per atom: Epot = -34.691eV  Ekin = 0.171eV (T=1319K)  Etot = -34.521eV\n",
      "Energy per atom: Epot = -34.691eV  Ekin = 0.170eV (T=1313K)  Etot = -34.521eV\n",
      "Energy per atom: Epot = -34.691eV  Ekin = 0.170eV (T=1313K)  Etot = -34.521eV\n",
      "Step = 730, time = 730.0 [fs], T = 1306.1395297984811 [K]\n",
      "Energy per atom: Epot = -34.690eV  Ekin = 0.169eV (T=1306K)  Etot = -34.521eV\n",
      "Energy per atom: Epot = -34.688eV  Ekin = 0.168eV (T=1297K)  Etot = -34.521eV\n",
      "Energy per atom: Epot = -34.687eV  Ekin = 0.166eV (T=1285K)  Etot = -34.521eV\n",
      "Energy per atom: Epot = -34.685eV  Ekin = 0.164eV (T=1270K)  Etot = -34.521eV\n",
      "Energy per atom: Epot = -34.683eV  Ekin = 0.162eV (T=1255K)  Etot = -34.521eV\n",
      "Energy per atom: Epot = -34.680eV  Ekin = 0.160eV (T=1241K)  Etot = -34.520eV\n",
      "Energy per atom: Epot = -34.678eV  Ekin = 0.158eV (T=1220K)  Etot = -34.520eV\n",
      "Energy per atom: Epot = -34.675eV  Ekin = 0.154eV (T=1194K)  Etot = -34.521eV\n",
      "Energy per atom: Epot = -34.673eV  Ekin = 0.151eV (T=1169K)  Etot = -34.522eV\n",
      "Energy per atom: Epot = -34.671eV  Ekin = 0.149eV (T=1155K)  Etot = -34.521eV\n",
      "Step = 740, time = 740.0 [fs], T = 1130.0228639362892 [K]\n",
      "Energy per atom: Epot = -34.668eV  Ekin = 0.146eV (T=1130K)  Etot = -34.522eV\n",
      "Energy per atom: Epot = -34.666eV  Ekin = 0.144eV (T=1113K)  Etot = -34.522eV\n",
      "Energy per atom: Epot = -34.665eV  Ekin = 0.142eV (T=1102K)  Etot = -34.522eV\n",
      "Energy per atom: Epot = -34.663eV  Ekin = 0.141eV (T=1089K)  Etot = -34.523eV\n",
      "Energy per atom: Epot = -34.662eV  Ekin = 0.140eV (T=1083K)  Etot = -34.523eV\n",
      "Energy per atom: Epot = -34.662eV  Ekin = 0.140eV (T=1084K)  Etot = -34.522eV\n",
      "Energy per atom: Epot = -34.662eV  Ekin = 0.140eV (T=1079K)  Etot = -34.522eV\n",
      "Energy per atom: Epot = -34.662eV  Ekin = 0.139eV (T=1073K)  Etot = -34.523eV\n",
      "Energy per atom: Epot = -34.663eV  Ekin = 0.138eV (T=1069K)  Etot = -34.524eV\n",
      "Energy per atom: Epot = -34.664eV  Ekin = 0.139eV (T=1076K)  Etot = -34.525eV\n",
      "Step = 750, time = 750.0 [fs], T = 1083.9614905678948 [K]\n",
      "Energy per atom: Epot = -34.665eV  Ekin = 0.140eV (T=1084K)  Etot = -34.525eV\n",
      "Energy per atom: Epot = -34.666eV  Ekin = 0.141eV (T=1092K)  Etot = -34.525eV\n",
      "Energy per atom: Epot = -34.668eV  Ekin = 0.143eV (T=1105K)  Etot = -34.525eV\n",
      "Energy per atom: Epot = -34.670eV  Ekin = 0.145eV (T=1118K)  Etot = -34.525eV\n",
      "Energy per atom: Epot = -34.672eV  Ekin = 0.147eV (T=1140K)  Etot = -34.525eV\n",
      "Energy per atom: Epot = -34.674eV  Ekin = 0.149eV (T=1149K)  Etot = -34.525eV\n",
      "Energy per atom: Epot = -34.676eV  Ekin = 0.150eV (T=1158K)  Etot = -34.526eV\n",
      "Energy per atom: Epot = -34.677eV  Ekin = 0.150eV (T=1162K)  Etot = -34.527eV\n",
      "Energy per atom: Epot = -34.679eV  Ekin = 0.151eV (T=1172K)  Etot = -34.527eV\n",
      "Energy per atom: Epot = -34.680eV  Ekin = 0.152eV (T=1174K)  Etot = -34.528eV\n",
      "Step = 760, time = 760.0 [fs], T = 1182.2959304995202 [K]\n",
      "Energy per atom: Epot = -34.681eV  Ekin = 0.153eV (T=1182K)  Etot = -34.528eV\n",
      "Energy per atom: Epot = -34.681eV  Ekin = 0.154eV (T=1188K)  Etot = -34.528eV\n",
      "Energy per atom: Epot = -34.681eV  Ekin = 0.152eV (T=1180K)  Etot = -34.529eV\n",
      "Energy per atom: Epot = -34.681eV  Ekin = 0.152eV (T=1175K)  Etot = -34.529eV\n",
      "Energy per atom: Epot = -34.681eV  Ekin = 0.151eV (T=1168K)  Etot = -34.530eV\n",
      "Energy per atom: Epot = -34.680eV  Ekin = 0.150eV (T=1162K)  Etot = -34.530eV\n",
      "Energy per atom: Epot = -34.679eV  Ekin = 0.148eV (T=1147K)  Etot = -34.530eV\n",
      "Energy per atom: Epot = -34.677eV  Ekin = 0.147eV (T=1134K)  Etot = -34.531eV\n",
      "Energy per atom: Epot = -34.676eV  Ekin = 0.144eV (T=1117K)  Etot = -34.531eV\n",
      "Energy per atom: Epot = -34.674eV  Ekin = 0.142eV (T=1100K)  Etot = -34.532eV\n",
      "Step = 770, time = 770.0 [fs], T = 1089.9711537191097 [K]\n",
      "Energy per atom: Epot = -34.672eV  Ekin = 0.141eV (T=1090K)  Etot = -34.531eV\n",
      "Energy per atom: Epot = -34.670eV  Ekin = 0.140eV (T=1080K)  Etot = -34.531eV\n",
      "Energy per atom: Epot = -34.669eV  Ekin = 0.138eV (T=1069K)  Etot = -34.531eV\n",
      "Energy per atom: Epot = -34.667eV  Ekin = 0.136eV (T=1054K)  Etot = -34.531eV\n",
      "Energy per atom: Epot = -34.666eV  Ekin = 0.134eV (T=1035K)  Etot = -34.532eV\n",
      "Energy per atom: Epot = -34.665eV  Ekin = 0.134eV (T=1038K)  Etot = -34.531eV\n",
      "Energy per atom: Epot = -34.664eV  Ekin = 0.134eV (T=1033K)  Etot = -34.530eV\n",
      "Energy per atom: Epot = -34.664eV  Ekin = 0.133eV (T=1030K)  Etot = -34.531eV\n",
      "Energy per atom: Epot = -34.664eV  Ekin = 0.134eV (T=1040K)  Etot = -34.529eV\n",
      "Energy per atom: Epot = -34.665eV  Ekin = 0.135eV (T=1046K)  Etot = -34.529eV\n",
      "Step = 780, time = 780.0 [fs], T = 1058.2368819251544 [K]\n",
      "Energy per atom: Epot = -34.666eV  Ekin = 0.137eV (T=1058K)  Etot = -34.529eV\n",
      "Energy per atom: Epot = -34.667eV  Ekin = 0.139eV (T=1072K)  Etot = -34.529eV\n",
      "Energy per atom: Epot = -34.669eV  Ekin = 0.141eV (T=1091K)  Etot = -34.528eV\n",
      "Energy per atom: Epot = -34.671eV  Ekin = 0.143eV (T=1109K)  Etot = -34.528eV\n",
      "Energy per atom: Epot = -34.674eV  Ekin = 0.145eV (T=1125K)  Etot = -34.528eV\n",
      "Energy per atom: Epot = -34.676eV  Ekin = 0.148eV (T=1147K)  Etot = -34.528eV\n",
      "Energy per atom: Epot = -34.678eV  Ekin = 0.151eV (T=1169K)  Etot = -34.527eV\n",
      "Energy per atom: Epot = -34.681eV  Ekin = 0.152eV (T=1178K)  Etot = -34.529eV\n",
      "Energy per atom: Epot = -34.683eV  Ekin = 0.153eV (T=1186K)  Etot = -34.530eV\n",
      "Energy per atom: Epot = -34.685eV  Ekin = 0.156eV (T=1205K)  Etot = -34.530eV\n",
      "Step = 790, time = 789.9999999999999 [fs], T = 1221.4561259539792 [K]\n",
      "Energy per atom: Epot = -34.687eV  Ekin = 0.158eV (T=1221K)  Etot = -34.529eV\n",
      "Energy per atom: Epot = -34.688eV  Ekin = 0.159eV (T=1227K)  Etot = -34.530eV\n",
      "Energy per atom: Epot = -34.689eV  Ekin = 0.160eV (T=1236K)  Etot = -34.530eV\n",
      "Energy per atom: Epot = -34.690eV  Ekin = 0.161eV (T=1245K)  Etot = -34.529eV\n",
      "Energy per atom: Epot = -34.690eV  Ekin = 0.162eV (T=1250K)  Etot = -34.529eV\n",
      "Energy per atom: Epot = -34.690eV  Ekin = 0.161eV (T=1249K)  Etot = -34.529eV\n",
      "Energy per atom: Epot = -34.690eV  Ekin = 0.162eV (T=1251K)  Etot = -34.528eV\n",
      "Energy per atom: Epot = -34.689eV  Ekin = 0.161eV (T=1248K)  Etot = -34.528eV\n",
      "Energy per atom: Epot = -34.688eV  Ekin = 0.161eV (T=1244K)  Etot = -34.527eV\n",
      "Energy per atom: Epot = -34.687eV  Ekin = 0.160eV (T=1240K)  Etot = -34.526eV\n",
      "Step = 800, time = 800.0000000000001 [fs], T = 1224.3944703568234 [K]\n",
      "Energy per atom: Epot = -34.685eV  Ekin = 0.158eV (T=1224K)  Etot = -34.527eV\n",
      "Energy per atom: Epot = -34.683eV  Ekin = 0.156eV (T=1204K)  Etot = -34.528eV\n",
      "Energy per atom: Epot = -34.681eV  Ekin = 0.153eV (T=1185K)  Etot = -34.528eV\n",
      "Energy per atom: Epot = -34.679eV  Ekin = 0.152eV (T=1174K)  Etot = -34.527eV\n"
     ]
    },
    {
     "name": "stdout",
     "output_type": "stream",
     "text": [
      "Energy per atom: Epot = -34.676eV  Ekin = 0.149eV (T=1154K)  Etot = -34.527eV\n",
      "Energy per atom: Epot = -34.674eV  Ekin = 0.147eV (T=1136K)  Etot = -34.527eV\n",
      "Energy per atom: Epot = -34.671eV  Ekin = 0.143eV (T=1108K)  Etot = -34.528eV\n",
      "Energy per atom: Epot = -34.669eV  Ekin = 0.141eV (T=1089K)  Etot = -34.528eV\n",
      "Energy per atom: Epot = -34.666eV  Ekin = 0.139eV (T=1074K)  Etot = -34.528eV\n",
      "Energy per atom: Epot = -34.664eV  Ekin = 0.136eV (T=1056K)  Etot = -34.528eV\n",
      "Step = 810, time = 810.0 [fs], T = 1048.562618524431 [K]\n",
      "Energy per atom: Epot = -34.662eV  Ekin = 0.136eV (T=1049K)  Etot = -34.527eV\n",
      "Energy per atom: Epot = -34.660eV  Ekin = 0.133eV (T=1029K)  Etot = -34.527eV\n",
      "Energy per atom: Epot = -34.659eV  Ekin = 0.131eV (T=1014K)  Etot = -34.528eV\n",
      "Energy per atom: Epot = -34.658eV  Ekin = 0.130eV (T=1003K)  Etot = -34.528eV\n",
      "Energy per atom: Epot = -34.658eV  Ekin = 0.129eV (T=999K)  Etot = -34.529eV\n",
      "Energy per atom: Epot = -34.658eV  Ekin = 0.129eV (T=1001K)  Etot = -34.528eV\n",
      "Energy per atom: Epot = -34.658eV  Ekin = 0.130eV (T=1009K)  Etot = -34.528eV\n",
      "Energy per atom: Epot = -34.659eV  Ekin = 0.131eV (T=1013K)  Etot = -34.528eV\n",
      "Energy per atom: Epot = -34.660eV  Ekin = 0.132eV (T=1024K)  Etot = -34.527eV\n",
      "Energy per atom: Epot = -34.661eV  Ekin = 0.134eV (T=1038K)  Etot = -34.527eV\n",
      "Step = 820, time = 820.0 [fs], T = 1047.2420327306986 [K]\n",
      "Energy per atom: Epot = -34.663eV  Ekin = 0.135eV (T=1047K)  Etot = -34.527eV\n",
      "Energy per atom: Epot = -34.665eV  Ekin = 0.137eV (T=1062K)  Etot = -34.527eV\n",
      "Energy per atom: Epot = -34.667eV  Ekin = 0.140eV (T=1081K)  Etot = -34.527eV\n",
      "Energy per atom: Epot = -34.669eV  Ekin = 0.142eV (T=1101K)  Etot = -34.527eV\n",
      "Energy per atom: Epot = -34.672eV  Ekin = 0.144eV (T=1118K)  Etot = -34.527eV\n",
      "Energy per atom: Epot = -34.674eV  Ekin = 0.147eV (T=1136K)  Etot = -34.527eV\n",
      "Energy per atom: Epot = -34.677eV  Ekin = 0.150eV (T=1162K)  Etot = -34.527eV\n",
      "Energy per atom: Epot = -34.680eV  Ekin = 0.153eV (T=1187K)  Etot = -34.526eV\n",
      "Energy per atom: Epot = -34.683eV  Ekin = 0.155eV (T=1199K)  Etot = -34.528eV\n",
      "Energy per atom: Epot = -34.686eV  Ekin = 0.159eV (T=1233K)  Etot = -34.527eV\n",
      "Step = 830, time = 830.0 [fs], T = 1261.8494846560873 [K]\n",
      "Energy per atom: Epot = -34.689eV  Ekin = 0.163eV (T=1262K)  Etot = -34.526eV\n",
      "Energy per atom: Epot = -34.693eV  Ekin = 0.166eV (T=1286K)  Etot = -34.526eV\n",
      "Energy per atom: Epot = -34.696eV  Ekin = 0.171eV (T=1319K)  Etot = -34.525eV\n",
      "Energy per atom: Epot = -34.699eV  Ekin = 0.174eV (T=1345K)  Etot = -34.525eV\n",
      "Energy per atom: Epot = -34.702eV  Ekin = 0.176eV (T=1362K)  Etot = -34.526eV\n",
      "Energy per atom: Epot = -34.705eV  Ekin = 0.179eV (T=1386K)  Etot = -34.526eV\n",
      "Energy per atom: Epot = -34.707eV  Ekin = 0.182eV (T=1409K)  Etot = -34.525eV\n",
      "Energy per atom: Epot = -34.710eV  Ekin = 0.185eV (T=1428K)  Etot = -34.525eV\n",
      "Energy per atom: Epot = -34.712eV  Ekin = 0.187eV (T=1446K)  Etot = -34.525eV\n",
      "Energy per atom: Epot = -34.713eV  Ekin = 0.189eV (T=1464K)  Etot = -34.524eV\n",
      "Step = 840, time = 840.0 [fs], T = 1473.1796543543905 [K]\n",
      "Energy per atom: Epot = -34.714eV  Ekin = 0.190eV (T=1473K)  Etot = -34.524eV\n",
      "Energy per atom: Epot = -34.714eV  Ekin = 0.191eV (T=1477K)  Etot = -34.523eV\n",
      "Energy per atom: Epot = -34.714eV  Ekin = 0.192eV (T=1484K)  Etot = -34.522eV\n",
      "Energy per atom: Epot = -34.713eV  Ekin = 0.191eV (T=1476K)  Etot = -34.522eV\n",
      "Energy per atom: Epot = -34.712eV  Ekin = 0.191eV (T=1475K)  Etot = -34.521eV\n",
      "Energy per atom: Epot = -34.710eV  Ekin = 0.188eV (T=1454K)  Etot = -34.522eV\n",
      "Energy per atom: Epot = -34.707eV  Ekin = 0.185eV (T=1429K)  Etot = -34.522eV\n",
      "Energy per atom: Epot = -34.704eV  Ekin = 0.181eV (T=1401K)  Etot = -34.523eV\n",
      "Energy per atom: Epot = -34.701eV  Ekin = 0.177eV (T=1371K)  Etot = -34.524eV\n",
      "Energy per atom: Epot = -34.698eV  Ekin = 0.174eV (T=1345K)  Etot = -34.524eV\n",
      "Step = 850, time = 850.0 [fs], T = 1319.0981610208323 [K]\n",
      "Energy per atom: Epot = -34.695eV  Ekin = 0.171eV (T=1319K)  Etot = -34.524eV\n",
      "Energy per atom: Epot = -34.691eV  Ekin = 0.167eV (T=1295K)  Etot = -34.524eV\n",
      "Energy per atom: Epot = -34.688eV  Ekin = 0.164eV (T=1271K)  Etot = -34.524eV\n",
      "Energy per atom: Epot = -34.686eV  Ekin = 0.162eV (T=1254K)  Etot = -34.523eV\n",
      "Energy per atom: Epot = -34.683eV  Ekin = 0.160eV (T=1236K)  Etot = -34.524eV\n",
      "Energy per atom: Epot = -34.682eV  Ekin = 0.158eV (T=1222K)  Etot = -34.524eV\n",
      "Energy per atom: Epot = -34.681eV  Ekin = 0.157eV (T=1211K)  Etot = -34.524eV\n",
      "Energy per atom: Epot = -34.681eV  Ekin = 0.156eV (T=1207K)  Etot = -34.525eV\n",
      "Energy per atom: Epot = -34.681eV  Ekin = 0.156eV (T=1208K)  Etot = -34.525eV\n",
      "Energy per atom: Epot = -34.682eV  Ekin = 0.158eV (T=1219K)  Etot = -34.524eV\n",
      "Step = 860, time = 860.0 [fs], T = 1230.7107298901024 [K]\n",
      "Energy per atom: Epot = -34.683eV  Ekin = 0.159eV (T=1231K)  Etot = -34.524eV\n",
      "Energy per atom: Epot = -34.685eV  Ekin = 0.160eV (T=1237K)  Etot = -34.525eV\n",
      "Energy per atom: Epot = -34.688eV  Ekin = 0.162eV (T=1252K)  Etot = -34.526eV\n",
      "Energy per atom: Epot = -34.691eV  Ekin = 0.165eV (T=1279K)  Etot = -34.525eV\n",
      "Energy per atom: Epot = -34.694eV  Ekin = 0.168eV (T=1303K)  Etot = -34.525eV\n",
      "Energy per atom: Epot = -34.697eV  Ekin = 0.171eV (T=1325K)  Etot = -34.526eV\n",
      "Energy per atom: Epot = -34.700eV  Ekin = 0.175eV (T=1352K)  Etot = -34.526eV\n",
      "Energy per atom: Epot = -34.704eV  Ekin = 0.178eV (T=1375K)  Etot = -34.526eV\n",
      "Energy per atom: Epot = -34.707eV  Ekin = 0.181eV (T=1400K)  Etot = -34.526eV\n",
      "Energy per atom: Epot = -34.710eV  Ekin = 0.184eV (T=1426K)  Etot = -34.526eV\n",
      "Step = 870, time = 870.0 [fs], T = 1445.5688460227605 [K]\n",
      "Energy per atom: Epot = -34.713eV  Ekin = 0.187eV (T=1446K)  Etot = -34.526eV\n",
      "Energy per atom: Epot = -34.715eV  Ekin = 0.189eV (T=1459K)  Etot = -34.527eV\n",
      "Energy per atom: Epot = -34.718eV  Ekin = 0.191eV (T=1480K)  Etot = -34.526eV\n",
      "Energy per atom: Epot = -34.720eV  Ekin = 0.193eV (T=1493K)  Etot = -34.527eV\n",
      "Energy per atom: Epot = -34.721eV  Ekin = 0.195eV (T=1506K)  Etot = -34.526eV\n",
      "Energy per atom: Epot = -34.722eV  Ekin = 0.196eV (T=1516K)  Etot = -34.526eV\n",
      "Energy per atom: Epot = -34.723eV  Ekin = 0.197eV (T=1524K)  Etot = -34.526eV\n",
      "Energy per atom: Epot = -34.724eV  Ekin = 0.199eV (T=1538K)  Etot = -34.525eV\n",
      "Energy per atom: Epot = -34.724eV  Ekin = 0.201eV (T=1553K)  Etot = -34.523eV\n",
      "Energy per atom: Epot = -34.723eV  Ekin = 0.201eV (T=1554K)  Etot = -34.522eV\n",
      "Step = 880, time = 879.9999999999999 [fs], T = 1550.4222940578104 [K]\n",
      "Energy per atom: Epot = -34.722eV  Ekin = 0.200eV (T=1550K)  Etot = -34.522eV\n",
      "Energy per atom: Epot = -34.721eV  Ekin = 0.198eV (T=1533K)  Etot = -34.523eV\n",
      "Energy per atom: Epot = -34.719eV  Ekin = 0.197eV (T=1522K)  Etot = -34.523eV\n",
      "Energy per atom: Epot = -34.717eV  Ekin = 0.195eV (T=1507K)  Etot = -34.522eV\n",
      "Energy per atom: Epot = -34.715eV  Ekin = 0.193eV (T=1495K)  Etot = -34.522eV\n",
      "Energy per atom: Epot = -34.712eV  Ekin = 0.191eV (T=1476K)  Etot = -34.521eV\n",
      "Energy per atom: Epot = -34.709eV  Ekin = 0.188eV (T=1455K)  Etot = -34.521eV\n",
      "Energy per atom: Epot = -34.706eV  Ekin = 0.184eV (T=1423K)  Etot = -34.522eV\n",
      "Energy per atom: Epot = -34.703eV  Ekin = 0.182eV (T=1405K)  Etot = -34.521eV\n",
      "Energy per atom: Epot = -34.699eV  Ekin = 0.178eV (T=1376K)  Etot = -34.521eV\n",
      "Step = 890, time = 890.0000000000001 [fs], T = 1349.3007898319372 [K]\n",
      "Energy per atom: Epot = -34.695eV  Ekin = 0.174eV (T=1349K)  Etot = -34.521eV\n",
      "Energy per atom: Epot = -34.692eV  Ekin = 0.171eV (T=1321K)  Etot = -34.521eV\n",
      "Energy per atom: Epot = -34.688eV  Ekin = 0.166eV (T=1283K)  Etot = -34.522eV\n",
      "Energy per atom: Epot = -34.685eV  Ekin = 0.162eV (T=1252K)  Etot = -34.523eV\n",
      "Energy per atom: Epot = -34.681eV  Ekin = 0.158eV (T=1224K)  Etot = -34.523eV\n",
      "Energy per atom: Epot = -34.678eV  Ekin = 0.154eV (T=1195K)  Etot = -34.524eV\n",
      "Energy per atom: Epot = -34.675eV  Ekin = 0.152eV (T=1176K)  Etot = -34.523eV\n",
      "Energy per atom: Epot = -34.673eV  Ekin = 0.149eV (T=1155K)  Etot = -34.523eV\n",
      "Energy per atom: Epot = -34.670eV  Ekin = 0.147eV (T=1134K)  Etot = -34.524eV\n",
      "Energy per atom: Epot = -34.668eV  Ekin = 0.145eV (T=1125K)  Etot = -34.523eV\n",
      "Step = 900, time = 900.0 [fs], T = 1112.7854874238203 [K]\n",
      "Energy per atom: Epot = -34.666eV  Ekin = 0.144eV (T=1113K)  Etot = -34.522eV\n",
      "Energy per atom: Epot = -34.665eV  Ekin = 0.143eV (T=1108K)  Etot = -34.522eV\n"
     ]
    },
    {
     "name": "stdout",
     "output_type": "stream",
     "text": [
      "Energy per atom: Epot = -34.664eV  Ekin = 0.143eV (T=1105K)  Etot = -34.521eV\n",
      "Energy per atom: Epot = -34.663eV  Ekin = 0.142eV (T=1098K)  Etot = -34.521eV\n",
      "Energy per atom: Epot = -34.663eV  Ekin = 0.141eV (T=1090K)  Etot = -34.522eV\n",
      "Energy per atom: Epot = -34.664eV  Ekin = 0.141eV (T=1092K)  Etot = -34.523eV\n",
      "Energy per atom: Epot = -34.664eV  Ekin = 0.142eV (T=1100K)  Etot = -34.522eV\n",
      "Energy per atom: Epot = -34.666eV  Ekin = 0.143eV (T=1110K)  Etot = -34.522eV\n",
      "Energy per atom: Epot = -34.667eV  Ekin = 0.145eV (T=1122K)  Etot = -34.522eV\n",
      "Energy per atom: Epot = -34.669eV  Ekin = 0.147eV (T=1134K)  Etot = -34.523eV\n",
      "Step = 910, time = 910.0 [fs], T = 1154.638311116254 [K]\n",
      "Energy per atom: Epot = -34.672eV  Ekin = 0.149eV (T=1155K)  Etot = -34.522eV\n",
      "Energy per atom: Epot = -34.674eV  Ekin = 0.152eV (T=1174K)  Etot = -34.522eV\n",
      "Energy per atom: Epot = -34.677eV  Ekin = 0.154eV (T=1194K)  Etot = -34.523eV\n",
      "Energy per atom: Epot = -34.680eV  Ekin = 0.157eV (T=1217K)  Etot = -34.523eV\n",
      "Energy per atom: Epot = -34.683eV  Ekin = 0.161eV (T=1243K)  Etot = -34.522eV\n",
      "Energy per atom: Epot = -34.686eV  Ekin = 0.163eV (T=1263K)  Etot = -34.523eV\n",
      "Energy per atom: Epot = -34.689eV  Ekin = 0.167eV (T=1290K)  Etot = -34.522eV\n",
      "Energy per atom: Epot = -34.692eV  Ekin = 0.169eV (T=1310K)  Etot = -34.523eV\n",
      "Energy per atom: Epot = -34.695eV  Ekin = 0.172eV (T=1332K)  Etot = -34.523eV\n",
      "Energy per atom: Epot = -34.698eV  Ekin = 0.175eV (T=1354K)  Etot = -34.523eV\n",
      "Step = 920, time = 920.0 [fs], T = 1375.175238346479 [K]\n",
      "Energy per atom: Epot = -34.700eV  Ekin = 0.178eV (T=1375K)  Etot = -34.522eV\n",
      "Energy per atom: Epot = -34.702eV  Ekin = 0.179eV (T=1388K)  Etot = -34.523eV\n",
      "Energy per atom: Epot = -34.704eV  Ekin = 0.182eV (T=1405K)  Etot = -34.523eV\n",
      "Energy per atom: Epot = -34.706eV  Ekin = 0.183eV (T=1419K)  Etot = -34.523eV\n",
      "Energy per atom: Epot = -34.708eV  Ekin = 0.186eV (T=1438K)  Etot = -34.522eV\n",
      "Energy per atom: Epot = -34.709eV  Ekin = 0.187eV (T=1447K)  Etot = -34.522eV\n",
      "Energy per atom: Epot = -34.710eV  Ekin = 0.188eV (T=1452K)  Etot = -34.522eV\n",
      "Energy per atom: Epot = -34.710eV  Ekin = 0.188eV (T=1456K)  Etot = -34.522eV\n",
      "Energy per atom: Epot = -34.711eV  Ekin = 0.189eV (T=1460K)  Etot = -34.522eV\n",
      "Energy per atom: Epot = -34.710eV  Ekin = 0.189eV (T=1460K)  Etot = -34.522eV\n",
      "Step = 930, time = 930.0 [fs], T = 1458.7143296739027 [K]\n",
      "Energy per atom: Epot = -34.710eV  Ekin = 0.189eV (T=1459K)  Etot = -34.521eV\n",
      "Energy per atom: Epot = -34.709eV  Ekin = 0.189eV (T=1460K)  Etot = -34.520eV\n",
      "Energy per atom: Epot = -34.708eV  Ekin = 0.187eV (T=1444K)  Etot = -34.521eV\n",
      "Energy per atom: Epot = -34.707eV  Ekin = 0.186eV (T=1441K)  Etot = -34.520eV\n",
      "Energy per atom: Epot = -34.705eV  Ekin = 0.186eV (T=1437K)  Etot = -34.519eV\n",
      "Energy per atom: Epot = -34.703eV  Ekin = 0.184eV (T=1424K)  Etot = -34.519eV\n",
      "Energy per atom: Epot = -34.701eV  Ekin = 0.182eV (T=1405K)  Etot = -34.519eV\n",
      "Energy per atom: Epot = -34.698eV  Ekin = 0.179eV (T=1381K)  Etot = -34.520eV\n",
      "Energy per atom: Epot = -34.696eV  Ekin = 0.175eV (T=1351K)  Etot = -34.521eV\n",
      "Energy per atom: Epot = -34.693eV  Ekin = 0.173eV (T=1337K)  Etot = -34.520eV\n",
      "Step = 940, time = 940.0 [fs], T = 1318.911914675727 [K]\n",
      "Energy per atom: Epot = -34.690eV  Ekin = 0.170eV (T=1319K)  Etot = -34.519eV\n",
      "Energy per atom: Epot = -34.686eV  Ekin = 0.167eV (T=1290K)  Etot = -34.520eV\n",
      "Energy per atom: Epot = -34.683eV  Ekin = 0.163eV (T=1262K)  Etot = -34.520eV\n",
      "Energy per atom: Epot = -34.680eV  Ekin = 0.159eV (T=1233K)  Etot = -34.520eV\n",
      "Energy per atom: Epot = -34.677eV  Ekin = 0.157eV (T=1212K)  Etot = -34.520eV\n",
      "Energy per atom: Epot = -34.674eV  Ekin = 0.153eV (T=1187K)  Etot = -34.520eV\n",
      "Energy per atom: Epot = -34.671eV  Ekin = 0.150eV (T=1164K)  Etot = -34.520eV\n",
      "Energy per atom: Epot = -34.668eV  Ekin = 0.148eV (T=1142K)  Etot = -34.521eV\n",
      "Energy per atom: Epot = -34.666eV  Ekin = 0.145eV (T=1124K)  Etot = -34.521eV\n",
      "Energy per atom: Epot = -34.664eV  Ekin = 0.143eV (T=1107K)  Etot = -34.521eV\n",
      "Step = 950, time = 950.0 [fs], T = 1099.0873560001837 [K]\n",
      "Energy per atom: Epot = -34.662eV  Ekin = 0.142eV (T=1099K)  Etot = -34.520eV\n",
      "Energy per atom: Epot = -34.661eV  Ekin = 0.141eV (T=1088K)  Etot = -34.521eV\n",
      "Energy per atom: Epot = -34.661eV  Ekin = 0.140eV (T=1080K)  Etot = -34.521eV\n",
      "Energy per atom: Epot = -34.660eV  Ekin = 0.140eV (T=1082K)  Etot = -34.520eV\n",
      "Energy per atom: Epot = -34.660eV  Ekin = 0.141eV (T=1087K)  Etot = -34.519eV\n",
      "Energy per atom: Epot = -34.660eV  Ekin = 0.141eV (T=1090K)  Etot = -34.519eV\n",
      "Energy per atom: Epot = -34.661eV  Ekin = 0.141eV (T=1089K)  Etot = -34.520eV\n",
      "Energy per atom: Epot = -34.661eV  Ekin = 0.141eV (T=1090K)  Etot = -34.520eV\n",
      "Energy per atom: Epot = -34.662eV  Ekin = 0.142eV (T=1102K)  Etot = -34.520eV\n",
      "Energy per atom: Epot = -34.663eV  Ekin = 0.144eV (T=1113K)  Etot = -34.519eV\n",
      "Step = 960, time = 960.0 [fs], T = 1121.7438534640573 [K]\n",
      "Energy per atom: Epot = -34.664eV  Ekin = 0.145eV (T=1122K)  Etot = -34.519eV\n",
      "Energy per atom: Epot = -34.665eV  Ekin = 0.147eV (T=1136K)  Etot = -34.518eV\n",
      "Energy per atom: Epot = -34.666eV  Ekin = 0.147eV (T=1136K)  Etot = -34.519eV\n",
      "Energy per atom: Epot = -34.667eV  Ekin = 0.147eV (T=1135K)  Etot = -34.520eV\n",
      "Energy per atom: Epot = -34.668eV  Ekin = 0.148eV (T=1144K)  Etot = -34.520eV\n",
      "Energy per atom: Epot = -34.668eV  Ekin = 0.147eV (T=1140K)  Etot = -34.521eV\n",
      "Energy per atom: Epot = -34.669eV  Ekin = 0.148eV (T=1145K)  Etot = -34.521eV\n",
      "Energy per atom: Epot = -34.669eV  Ekin = 0.148eV (T=1144K)  Etot = -34.521eV\n",
      "Energy per atom: Epot = -34.669eV  Ekin = 0.148eV (T=1145K)  Etot = -34.521eV\n",
      "Energy per atom: Epot = -34.669eV  Ekin = 0.148eV (T=1144K)  Etot = -34.521eV\n",
      "Step = 970, time = 969.9999999999999 [fs], T = 1150.8046259890853 [K]\n",
      "Energy per atom: Epot = -34.669eV  Ekin = 0.149eV (T=1151K)  Etot = -34.520eV\n",
      "Energy per atom: Epot = -34.669eV  Ekin = 0.147eV (T=1135K)  Etot = -34.522eV\n",
      "Energy per atom: Epot = -34.668eV  Ekin = 0.146eV (T=1127K)  Etot = -34.523eV\n",
      "Energy per atom: Epot = -34.668eV  Ekin = 0.145eV (T=1122K)  Etot = -34.523eV\n",
      "Energy per atom: Epot = -34.667eV  Ekin = 0.144eV (T=1115K)  Etot = -34.523eV\n",
      "Energy per atom: Epot = -34.667eV  Ekin = 0.144eV (T=1115K)  Etot = -34.523eV\n",
      "Energy per atom: Epot = -34.667eV  Ekin = 0.144eV (T=1118K)  Etot = -34.522eV\n",
      "Energy per atom: Epot = -34.666eV  Ekin = 0.143eV (T=1108K)  Etot = -34.523eV\n",
      "Energy per atom: Epot = -34.666eV  Ekin = 0.143eV (T=1107K)  Etot = -34.523eV\n",
      "Energy per atom: Epot = -34.666eV  Ekin = 0.144eV (T=1110K)  Etot = -34.522eV\n",
      "Step = 980, time = 980.0000000000001 [fs], T = 1116.9613964890314 [K]\n",
      "Energy per atom: Epot = -34.666eV  Ekin = 0.144eV (T=1117K)  Etot = -34.522eV\n",
      "Energy per atom: Epot = -34.667eV  Ekin = 0.145eV (T=1124K)  Etot = -34.521eV\n",
      "Energy per atom: Epot = -34.667eV  Ekin = 0.146eV (T=1132K)  Etot = -34.521eV\n",
      "Energy per atom: Epot = -34.668eV  Ekin = 0.148eV (T=1143K)  Etot = -34.521eV\n",
      "Energy per atom: Epot = -34.670eV  Ekin = 0.150eV (T=1162K)  Etot = -34.520eV\n",
      "Energy per atom: Epot = -34.671eV  Ekin = 0.152eV (T=1176K)  Etot = -34.519eV\n",
      "Energy per atom: Epot = -34.673eV  Ekin = 0.154eV (T=1194K)  Etot = -34.519eV\n",
      "Energy per atom: Epot = -34.675eV  Ekin = 0.156eV (T=1209K)  Etot = -34.519eV\n",
      "Energy per atom: Epot = -34.677eV  Ekin = 0.159eV (T=1228K)  Etot = -34.519eV\n",
      "Energy per atom: Epot = -34.680eV  Ekin = 0.162eV (T=1253K)  Etot = -34.518eV\n",
      "Step = 990, time = 990.0 [fs], T = 1261.7042483844475 [K]\n",
      "Energy per atom: Epot = -34.682eV  Ekin = 0.163eV (T=1262K)  Etot = -34.519eV\n",
      "Energy per atom: Epot = -34.684eV  Ekin = 0.165eV (T=1279K)  Etot = -34.519eV\n",
      "Energy per atom: Epot = -34.686eV  Ekin = 0.168eV (T=1296K)  Etot = -34.519eV\n",
      "Energy per atom: Epot = -34.688eV  Ekin = 0.170eV (T=1316K)  Etot = -34.518eV\n",
      "Energy per atom: Epot = -34.690eV  Ekin = 0.172eV (T=1332K)  Etot = -34.518eV\n",
      "Energy per atom: Epot = -34.691eV  Ekin = 0.173eV (T=1338K)  Etot = -34.518eV\n",
      "Energy per atom: Epot = -34.692eV  Ekin = 0.173eV (T=1342K)  Etot = -34.518eV\n",
      "Energy per atom: Epot = -34.692eV  Ekin = 0.174eV (T=1343K)  Etot = -34.518eV\n",
      "Energy per atom: Epot = -34.691eV  Ekin = 0.173eV (T=1338K)  Etot = -34.518eV\n",
      "Energy per atom: Epot = -34.690eV  Ekin = 0.172eV (T=1330K)  Etot = -34.518eV\n",
      "Step = 1000, time = 1000.0 [fs], T = 1312.3702881693948 [K]\n",
      "Energy per atom: Epot = -34.689eV  Ekin = 0.170eV (T=1312K)  Etot = -34.519eV\n",
      "Energy per atom: Epot = -34.687eV  Ekin = 0.168eV (T=1298K)  Etot = -34.519eV\n"
     ]
    },
    {
     "name": "stdout",
     "output_type": "stream",
     "text": [
      "Energy per atom: Epot = -34.684eV  Ekin = 0.165eV (T=1280K)  Etot = -34.519eV\n",
      "Energy per atom: Epot = -34.681eV  Ekin = 0.163eV (T=1263K)  Etot = -34.518eV\n",
      "Energy per atom: Epot = -34.678eV  Ekin = 0.160eV (T=1237K)  Etot = -34.518eV\n",
      "Energy per atom: Epot = -34.675eV  Ekin = 0.157eV (T=1214K)  Etot = -34.518eV\n",
      "Energy per atom: Epot = -34.671eV  Ekin = 0.154eV (T=1190K)  Etot = -34.518eV\n",
      "Energy per atom: Epot = -34.668eV  Ekin = 0.151eV (T=1166K)  Etot = -34.518eV\n",
      "Energy per atom: Epot = -34.666eV  Ekin = 0.147eV (T=1139K)  Etot = -34.518eV\n",
      "Energy per atom: Epot = -34.663eV  Ekin = 0.145eV (T=1119K)  Etot = -34.519eV\n",
      "Step = 1010, time = 1010.0 [fs], T = 1107.3682349275302 [K]\n",
      "Energy per atom: Epot = -34.661eV  Ekin = 0.143eV (T=1107K)  Etot = -34.518eV\n",
      "Energy per atom: Epot = -34.660eV  Ekin = 0.142eV (T=1097K)  Etot = -34.519eV\n",
      "Energy per atom: Epot = -34.660eV  Ekin = 0.142eV (T=1099K)  Etot = -34.518eV\n",
      "Energy per atom: Epot = -34.660eV  Ekin = 0.143eV (T=1103K)  Etot = -34.518eV\n",
      "Energy per atom: Epot = -34.662eV  Ekin = 0.143eV (T=1108K)  Etot = -34.518eV\n",
      "Energy per atom: Epot = -34.664eV  Ekin = 0.145eV (T=1118K)  Etot = -34.519eV\n",
      "Energy per atom: Epot = -34.666eV  Ekin = 0.147eV (T=1134K)  Etot = -34.520eV\n",
      "Energy per atom: Epot = -34.669eV  Ekin = 0.150eV (T=1162K)  Etot = -34.519eV\n",
      "Energy per atom: Epot = -34.673eV  Ekin = 0.154eV (T=1193K)  Etot = -34.519eV\n",
      "Energy per atom: Epot = -34.677eV  Ekin = 0.158eV (T=1225K)  Etot = -34.519eV\n",
      "Step = 1020, time = 1020.0 [fs], T = 1254.456856444442 [K]\n",
      "Energy per atom: Epot = -34.682eV  Ekin = 0.162eV (T=1254K)  Etot = -34.520eV\n",
      "Energy per atom: Epot = -34.687eV  Ekin = 0.166eV (T=1287K)  Etot = -34.520eV\n",
      "Energy per atom: Epot = -34.692eV  Ekin = 0.170eV (T=1314K)  Etot = -34.522eV\n",
      "Energy per atom: Epot = -34.696eV  Ekin = 0.175eV (T=1357K)  Etot = -34.521eV\n",
      "Energy per atom: Epot = -34.701eV  Ekin = 0.180eV (T=1389K)  Etot = -34.521eV\n",
      "Energy per atom: Epot = -34.705eV  Ekin = 0.184eV (T=1425K)  Etot = -34.521eV\n",
      "Energy per atom: Epot = -34.709eV  Ekin = 0.189eV (T=1461K)  Etot = -34.521eV\n",
      "Energy per atom: Epot = -34.713eV  Ekin = 0.191eV (T=1476K)  Etot = -34.522eV\n",
      "Energy per atom: Epot = -34.716eV  Ekin = 0.193eV (T=1496K)  Etot = -34.523eV\n",
      "Energy per atom: Epot = -34.719eV  Ekin = 0.196eV (T=1515K)  Etot = -34.523eV\n",
      "Step = 1030, time = 1030.0 [fs], T = 1533.4115403699773 [K]\n",
      "Energy per atom: Epot = -34.721eV  Ekin = 0.198eV (T=1533K)  Etot = -34.523eV\n",
      "Energy per atom: Epot = -34.722eV  Ekin = 0.199eV (T=1543K)  Etot = -34.523eV\n",
      "Energy per atom: Epot = -34.723eV  Ekin = 0.200eV (T=1548K)  Etot = -34.523eV\n",
      "Energy per atom: Epot = -34.724eV  Ekin = 0.201eV (T=1557K)  Etot = -34.522eV\n",
      "Energy per atom: Epot = -34.723eV  Ekin = 0.202eV (T=1559K)  Etot = -34.522eV\n",
      "Energy per atom: Epot = -34.723eV  Ekin = 0.201eV (T=1559K)  Etot = -34.521eV\n",
      "Energy per atom: Epot = -34.721eV  Ekin = 0.200eV (T=1544K)  Etot = -34.522eV\n",
      "Energy per atom: Epot = -34.720eV  Ekin = 0.199eV (T=1540K)  Etot = -34.521eV\n",
      "Energy per atom: Epot = -34.718eV  Ekin = 0.196eV (T=1519K)  Etot = -34.521eV\n",
      "Energy per atom: Epot = -34.715eV  Ekin = 0.194eV (T=1499K)  Etot = -34.522eV\n",
      "Step = 1040, time = 1040.0 [fs], T = 1475.3818337384587 [K]\n",
      "Energy per atom: Epot = -34.713eV  Ekin = 0.191eV (T=1475K)  Etot = -34.522eV\n",
      "Energy per atom: Epot = -34.710eV  Ekin = 0.187eV (T=1450K)  Etot = -34.523eV\n",
      "Energy per atom: Epot = -34.708eV  Ekin = 0.185eV (T=1434K)  Etot = -34.522eV\n",
      "Energy per atom: Epot = -34.705eV  Ekin = 0.183eV (T=1416K)  Etot = -34.522eV\n",
      "Energy per atom: Epot = -34.703eV  Ekin = 0.180eV (T=1391K)  Etot = -34.523eV\n",
      "Energy per atom: Epot = -34.700eV  Ekin = 0.177eV (T=1369K)  Etot = -34.523eV\n",
      "Energy per atom: Epot = -34.698eV  Ekin = 0.176eV (T=1361K)  Etot = -34.522eV\n",
      "Energy per atom: Epot = -34.696eV  Ekin = 0.173eV (T=1339K)  Etot = -34.523eV\n",
      "Energy per atom: Epot = -34.694eV  Ekin = 0.171eV (T=1321K)  Etot = -34.523eV\n",
      "Energy per atom: Epot = -34.692eV  Ekin = 0.169eV (T=1306K)  Etot = -34.523eV\n",
      "Step = 1050, time = 1050.0 [fs], T = 1289.440068746159 [K]\n",
      "Energy per atom: Epot = -34.691eV  Ekin = 0.167eV (T=1289K)  Etot = -34.524eV\n",
      "Energy per atom: Epot = -34.689eV  Ekin = 0.164eV (T=1271K)  Etot = -34.525eV\n",
      "Energy per atom: Epot = -34.687eV  Ekin = 0.162eV (T=1252K)  Etot = -34.526eV\n",
      "Energy per atom: Epot = -34.686eV  Ekin = 0.160eV (T=1236K)  Etot = -34.526eV\n",
      "Energy per atom: Epot = -34.684eV  Ekin = 0.158eV (T=1223K)  Etot = -34.526eV\n",
      "Energy per atom: Epot = -34.682eV  Ekin = 0.156eV (T=1203K)  Etot = -34.527eV\n",
      "Energy per atom: Epot = -34.680eV  Ekin = 0.153eV (T=1182K)  Etot = -34.527eV\n",
      "Energy per atom: Epot = -34.678eV  Ekin = 0.151eV (T=1166K)  Etot = -34.528eV\n",
      "Energy per atom: Epot = -34.676eV  Ekin = 0.148eV (T=1147K)  Etot = -34.528eV\n",
      "Energy per atom: Epot = -34.674eV  Ekin = 0.146eV (T=1133K)  Etot = -34.527eV\n",
      "Step = 1060, time = 1060.0 [fs], T = 1106.3208287365883 [K]\n",
      "Energy per atom: Epot = -34.671eV  Ekin = 0.143eV (T=1106K)  Etot = -34.528eV\n",
      "Energy per atom: Epot = -34.669eV  Ekin = 0.141eV (T=1091K)  Etot = -34.528eV\n",
      "Energy per atom: Epot = -34.666eV  Ekin = 0.138eV (T=1069K)  Etot = -34.528eV\n",
      "Energy per atom: Epot = -34.664eV  Ekin = 0.135eV (T=1045K)  Etot = -34.529eV\n",
      "Energy per atom: Epot = -34.662eV  Ekin = 0.132eV (T=1025K)  Etot = -34.529eV\n",
      "Energy per atom: Epot = -34.660eV  Ekin = 0.130eV (T=1010K)  Etot = -34.529eV\n",
      "Energy per atom: Epot = -34.658eV  Ekin = 0.130eV (T=1002K)  Etot = -34.528eV\n",
      "Energy per atom: Epot = -34.656eV  Ekin = 0.127eV (T=985K)  Etot = -34.529eV\n",
      "Energy per atom: Epot = -34.656eV  Ekin = 0.127eV (T=985K)  Etot = -34.528eV\n",
      "Energy per atom: Epot = -34.655eV  Ekin = 0.126eV (T=976K)  Etot = -34.529eV\n",
      "Step = 1070, time = 1070.0 [fs], T = 980.9725165651028 [K]\n",
      "Energy per atom: Epot = -34.656eV  Ekin = 0.127eV (T=981K)  Etot = -34.529eV\n",
      "Energy per atom: Epot = -34.657eV  Ekin = 0.127eV (T=981K)  Etot = -34.530eV\n",
      "Energy per atom: Epot = -34.658eV  Ekin = 0.129eV (T=994K)  Etot = -34.530eV\n",
      "Energy per atom: Epot = -34.660eV  Ekin = 0.130eV (T=1005K)  Etot = -34.530eV\n",
      "Energy per atom: Epot = -34.663eV  Ekin = 0.132eV (T=1023K)  Etot = -34.531eV\n",
      "Energy per atom: Epot = -34.666eV  Ekin = 0.136eV (T=1048K)  Etot = -34.530eV\n",
      "Energy per atom: Epot = -34.670eV  Ekin = 0.140eV (T=1081K)  Etot = -34.530eV\n",
      "Energy per atom: Epot = -34.674eV  Ekin = 0.143eV (T=1110K)  Etot = -34.530eV\n",
      "Energy per atom: Epot = -34.678eV  Ekin = 0.147eV (T=1139K)  Etot = -34.531eV\n",
      "Energy per atom: Epot = -34.683eV  Ekin = 0.152eV (T=1176K)  Etot = -34.531eV\n",
      "Step = 1080, time = 1080.0 [fs], T = 1210.131324601977 [K]\n",
      "Energy per atom: Epot = -34.687eV  Ekin = 0.156eV (T=1210K)  Etot = -34.531eV\n",
      "Energy per atom: Epot = -34.692eV  Ekin = 0.160eV (T=1241K)  Etot = -34.531eV\n",
      "Energy per atom: Epot = -34.696eV  Ekin = 0.165eV (T=1273K)  Etot = -34.531eV\n",
      "Energy per atom: Epot = -34.700eV  Ekin = 0.169eV (T=1311K)  Etot = -34.531eV\n",
      "Energy per atom: Epot = -34.704eV  Ekin = 0.173eV (T=1342K)  Etot = -34.531eV\n",
      "Energy per atom: Epot = -34.707eV  Ekin = 0.177eV (T=1369K)  Etot = -34.530eV\n",
      "Energy per atom: Epot = -34.710eV  Ekin = 0.180eV (T=1393K)  Etot = -34.530eV\n",
      "Energy per atom: Epot = -34.713eV  Ekin = 0.182eV (T=1411K)  Etot = -34.530eV\n",
      "Energy per atom: Epot = -34.715eV  Ekin = 0.185eV (T=1428K)  Etot = -34.530eV\n",
      "Energy per atom: Epot = -34.716eV  Ekin = 0.186eV (T=1437K)  Etot = -34.531eV\n",
      "Step = 1090, time = 1090.0 [fs], T = 1439.9055594814956 [K]\n",
      "Energy per atom: Epot = -34.717eV  Ekin = 0.186eV (T=1440K)  Etot = -34.531eV\n",
      "Energy per atom: Epot = -34.717eV  Ekin = 0.185eV (T=1433K)  Etot = -34.532eV\n",
      "Energy per atom: Epot = -34.717eV  Ekin = 0.185eV (T=1430K)  Etot = -34.532eV\n",
      "Energy per atom: Epot = -34.717eV  Ekin = 0.183eV (T=1416K)  Etot = -34.534eV\n",
      "Energy per atom: Epot = -34.715eV  Ekin = 0.182eV (T=1410K)  Etot = -34.533eV\n",
      "Energy per atom: Epot = -34.714eV  Ekin = 0.181eV (T=1398K)  Etot = -34.533eV\n",
      "Energy per atom: Epot = -34.712eV  Ekin = 0.178eV (T=1378K)  Etot = -34.534eV\n",
      "Energy per atom: Epot = -34.710eV  Ekin = 0.176eV (T=1361K)  Etot = -34.534eV\n",
      "Energy per atom: Epot = -34.708eV  Ekin = 0.173eV (T=1338K)  Etot = -34.535eV\n",
      "Energy per atom: Epot = -34.705eV  Ekin = 0.170eV (T=1318K)  Etot = -34.535eV\n",
      "Step = 1100, time = 1100.0 [fs], T = 1294.479828341841 [K]\n",
      "Energy per atom: Epot = -34.703eV  Ekin = 0.167eV (T=1294K)  Etot = -34.535eV\n"
     ]
    },
    {
     "data": {
      "text/plain": [
       "True"
      ]
     },
     "execution_count": 25,
     "metadata": {},
     "output_type": "execute_result"
    }
   ],
   "source": [
    "db = []\n",
    "def collect_data():\n",
    "    db.append(atoms.copy())\n",
    "\n",
    "dynamics.attach(collect_data, interval=10)\n",
    "dynamics.run(steps=500)"
   ]
  },
  {
   "cell_type": "code",
   "execution_count": 26,
   "metadata": {
    "ExecuteTime": {
     "end_time": "2019-09-25T22:45:02.210923Z",
     "start_time": "2019-09-25T22:45:02.174957Z"
    }
   },
   "outputs": [
    {
     "data": {
      "text/plain": [
       "100"
      ]
     },
     "execution_count": 26,
     "metadata": {},
     "output_type": "execute_result"
    }
   ],
   "source": [
    "# The size of the database:\n",
    "len(db)"
   ]
  },
  {
   "cell_type": "markdown",
   "metadata": {},
   "source": [
    "Save the results into a file for using it as an input for the fitting:"
   ]
  },
  {
   "cell_type": "code",
   "execution_count": 27,
   "metadata": {
    "ExecuteTime": {
     "end_time": "2019-09-25T22:45:02.275871Z",
     "start_time": "2019-09-25T22:45:02.219112Z"
    },
    "scrolled": true
   },
   "outputs": [],
   "source": [
    "write('/tmp/atoms_db.xyz', db)"
   ]
  },
  {
   "cell_type": "markdown",
   "metadata": {},
   "source": [
    "## Fitting the 2-body potential"
   ]
  },
  {
   "cell_type": "markdown",
   "metadata": {},
   "source": [
    "We need to calculate the atomic energy and use it as an offset during the fitting:"
   ]
  },
  {
   "cell_type": "code",
   "execution_count": 28,
   "metadata": {
    "ExecuteTime": {
     "end_time": "2019-09-25T22:45:02.320206Z",
     "start_time": "2019-09-25T22:45:02.278437Z"
    }
   },
   "outputs": [
    {
     "data": {
      "text/plain": [
       "-29.716948405885105"
      ]
     },
     "execution_count": 28,
     "metadata": {},
     "output_type": "execute_result"
    }
   ],
   "source": [
    "isolated_atom = Atoms(\"Si\", positions=[[0,0,0]])\n",
    "isolated_atom.set_calculator(qm_pot)\n",
    "E0 = isolated_atom.get_potential_energy()\n",
    "E0"
   ]
  },
  {
   "cell_type": "markdown",
   "metadata": {},
   "source": [
    "We are going to use teach_sparse tool to build the GAP potential. For a detailed description of the available options you can run the following command."
   ]
  },
  {
   "cell_type": "code",
   "execution_count": 34,
   "metadata": {
    "ExecuteTime": {
     "end_time": "2019-09-25T22:45:03.351826Z",
     "start_time": "2019-09-25T22:45:02.332058Z"
    },
    "scrolled": false
   },
   "outputs": [
    {
     "name": "stdout",
     "output_type": "stream",
     "text": [
      "libAtoms::Hello World: 07/10/2019   17:16:56\r\n",
      "libAtoms::Hello World: git version  git@github.com:/libAtoms/QUIP,d204dca49-dirty\r\n",
      "libAtoms::Hello World: QUIP_ARCH    darwin_x86_64_gfortran_openmp\r\n",
      "libAtoms::Hello World: compiled on  Aug  7 2019 at 14:13:45\r\n",
      "libAtoms::Hello World: OpenMP parallelisation with 4 threads\r\n",
      "WARNING: libAtoms::Hello World: environment variable OMP_STACKSIZE not set explicitly. The default value - system and compiler dependent - may be too small for some applications.\r\n",
      "libAtoms::Hello World: Random Seed = 62216297\r\n",
      "libAtoms::Hello World: global verbosity = 0\r\n",
      "\r\n",
      "Calls to system_timer will do nothing by default\r\n",
      "\r\n",
      "at_file type=STRING scalar current_value=//MANDATORY//\r\n",
      "XYZ file with fitting configurations\r\n",
      "\r\n",
      "gap type=STRING scalar current_value=//MANDATORY//\r\n",
      "Initialisation string for GAPs\r\n",
      "\r\n",
      "e0 type=STRING scalar current_value=0.0\r\n",
      "Atomic energy value to be subtracted from energies before fitting (and added\r\n",
      "back on after prediction).  Specifiy a single number (used for all species) or\r\n",
      "by species: {Ti:-150.0:O:-320}. energy = core + GAP +\r\n",
      "e0\r\n",
      "\r\n",
      "local_property0 type=STRING scalar current_value=0.0\r\n",
      "Local property value to be subtracted from the local property before fitting\r\n",
      "(and added back on after prediction).  Specifiy a single number (used for all\r\n",
      "species) or by species: {H:20.0:Cl:35.0}.\r\n",
      "\r\n",
      "e0_offset type=REAL scalar current_value=0.0\r\n",
      "Offset of baseline. If zero, the offset is the average atomic energy of the inpu-\r\n",
      "t data or the e0 specified manually.\r\n",
      "\r\n",
      "e0_method type=STRING scalar current_value=isolated\r\n",
      "Method to determine e0, if not explicitly specified. Possible options: isolated\r\n",
      "(default, each atom present in the XYZ needs to have an isolated representative,\r\n",
      "with a valid energy), average (e0 is the average of all total energies across\r\n",
      "the XYZ)\r\n",
      "\r\n",
      "default_sigma type=REAL dim=4 current_value=//MANDATORY//\r\n",
      "error in [energies forces virials hessians]\r\n",
      "\r\n",
      "sparse_jitter type=REAL scalar current_value=1.0e-10\r\n",
      "intrisic error of atomic/bond energy, used to regularise the sparse covariance\r\n",
      "matrix\r\n",
      "\r\n",
      "hessian_delta type=REAL scalar current_value=1.0e-2\r\n",
      "Delta to use in numerical differentiation when obtaining second derivative for\r\n",
      "the Hessian covariance\r\n",
      "\r\n",
      "core_param_file type=STRING scalar current_value=quip_params.xml\r\n",
      "QUIP XML file for a potential to subtract from data (and added back after predic-\r\n",
      "tion)\r\n",
      "\r\n",
      "core_ip_args type=STRING scalar current_value=\r\n",
      " QUIP init string for a potential to subtract from data (and added back after\r\n",
      "prediction)\r\n",
      "\r\n",
      "energy_parameter_name type=STRING scalar current_value=energy\r\n",
      "Name of energy property in the at_file that describes the data\r\n",
      "\r\n",
      "local_property_parameter_name type=STRING scalar current_value=local_property\r\n",
      "Name of local_property in the at_file that describes the data\r\n",
      "\r\n",
      "force_parameter_name type=STRING scalar current_value=force\r\n",
      "Name of force property in the at_file that describes the data\r\n",
      "\r\n",
      "virial_parameter_name type=STRING scalar current_value=virial\r\n",
      "Name of virial property in the at_file that describes the data\r\n",
      "\r\n",
      "hessian_parameter_name type=STRING scalar current_value=hessian\r\n",
      "Name of hessian property in the at_file that describes the data\r\n",
      "\r\n",
      "config_type_parameter_name type=STRING scalar current_value=config_type\r\n",
      "Identifier of property determining the type of input data in the at_file\r\n",
      "\r\n",
      "sigma_parameter_name type=STRING scalar current_value=sigma\r\n",
      "sigma parameters (error hyper) for a given configuration in the database. Overri-\r\n",
      "des the command line sigmas. In the XYZ, it must be prepended by energy_, force_-\r\n",
      ", virial_ or hessian_\r\n",
      "\r\n",
      "config_type_sigma type=STRING scalar current_value=\r\n",
      "What sigma values to choose for each type of data. Format: {type:energy:force:vi-\r\n",
      "rial:hessian}\r\n",
      "\r\n",
      "sigma_per_atom type=LOGICAL scalar current_value=T\r\n",
      "Interpretation of the energy and virial sigmas specified in >>default_sigma<<\r\n",
      "and >>config_type_sigma<<. If >>T<<, they are interpreted as per-atom errors,\r\n",
      "and the variance will be scaled according to the number of atoms in the configur-\r\n",
      "ation. If >>F<< they are treated as absolute errors and no scaling is performed.\r\n",
      "NOTE: sigmas specified on a per-configuration basis (see >>sigma_parameter_name<-\r\n",
      "<) are always absolute.\r\n",
      "\r\n",
      "do_copy_at_file type=LOGICAL scalar current_value=T\r\n",
      "Do copy the at_file into the GAP XML file (should be set to False for NetCDF\r\n",
      "input).\r\n",
      "\r\n",
      "sparse_separate_file type=LOGICAL scalar current_value=T\r\n",
      "Save sparse coordinates data in separate file\r\n",
      "\r\n",
      "sparse_use_actual_gpcov type=LOGICAL scalar current_value=F\r\n",
      "Use actual GP covariance for sparsification methods\r\n",
      "\r\n",
      "gp_file type=STRING scalar current_value=gp_new.xml\r\n",
      "output XML file\r\n",
      "\r\n",
      "verbosity type=STRING scalar current_value=NORMAL\r\n",
      "Verbosity control. Options: NORMAL, VERBOSE, NERD, ANALYSIS.\r\n",
      "\r\n",
      "rnd_seed type=INTEGER scalar current_value=-1\r\n",
      "Random seed.\r\n",
      "\r\n",
      "do_ip_timing type=LOGICAL scalar current_value=F\r\n",
      "To enable or not timing of the interatomic potential.\r\n",
      "\r\n",
      "template_file type=STRING scalar current_value=template.xyz\r\n",
      "Template XYZ file for initialising object\r\n",
      "\r\n",
      "sparsify_only_no_fit type=LOGICAL scalar current_value=F\r\n",
      "If true, sparsification is done, but no fitting. print the sparse index by addin-\r\n",
      "g print_sparse_index=file.dat to the descriptor string.\r\n",
      "\r\n",
      "missing mandatory parameter at_file\r\n",
      "missing mandatory parameter gap\r\n",
      "missing mandatory parameter default_sigma\r\n",
      "gap_fit\r\n",
      "SYSTEM ABORT: Exit: Mandatory argument(s) missing...   \r\n"
     ]
    }
   ],
   "source": [
    "!gap_fit --help"
   ]
  },
  {
   "cell_type": "markdown",
   "metadata": {},
   "source": [
    "Now we have to do actual fitting by running the following command:\n",
    "\n",
    "Relevant parameters:\n",
    "- covariance_type: Type of covariance function to use. Available: ARD_SE, DOT_PRODUCT, BOND_REAL_SP-\n",
    "ACE, PP (piecewise polynomial)\n",
    "- theta_uniform: Set the width of Gaussians for the ARD_SE and PP kernel, same in each dimension\n",
    "- n_sparse: Number of sparse points to use in the sparsification of the Gaussian process\n",
    "- delta: Set the standard deviation of the Gaussian process. Typically this would be set to the standard deviation (i.e. root mean square) of the function that is approximated with the Gaussian process.\n",
    "- default_sigma: error in [energies, forces, virials, hessians]\n"
   ]
  },
  {
   "cell_type": "code",
   "execution_count": 35,
   "metadata": {
    "ExecuteTime": {
     "end_time": "2019-09-25T22:45:03.370718Z",
     "start_time": "2019-09-25T22:45:03.357136Z"
    },
    "scrolled": false
   },
   "outputs": [],
   "source": [
    "# !gap_fit at_file=dummy default_sigma={0 0 0 0} gap={distance_Nb delta=0.0 covariance_type=ARD_SE --help}"
   ]
  },
  {
   "cell_type": "code",
   "execution_count": 36,
   "metadata": {
    "ExecuteTime": {
     "end_time": "2019-09-25T22:45:04.580150Z",
     "start_time": "2019-09-25T22:45:03.377300Z"
    },
    "scrolled": false
   },
   "outputs": [
    {
     "name": "stdout",
     "output_type": "stream",
     "text": [
      "libAtoms::Hello World: 07/10/2019   17:16:59\n",
      "libAtoms::Hello World: git version  git@github.com:/libAtoms/QUIP,d204dca49-dirty\n",
      "libAtoms::Hello World: QUIP_ARCH    darwin_x86_64_gfortran_openmp\n",
      "libAtoms::Hello World: compiled on  Aug  7 2019 at 14:13:45\n",
      "libAtoms::Hello World: OpenMP parallelisation with 4 threads\n",
      "WARNING: libAtoms::Hello World: environment variable OMP_STACKSIZE not set explicitly. The default value - system and compiler dependent - may be too small for some applications.\n",
      "libAtoms::Hello World: Random Seed = 62219567\n",
      "libAtoms::Hello World: global verbosity = 0\n",
      "\n",
      "Calls to system_timer will do nothing by default\n",
      "\n",
      "\n",
      "================================ Input parameters ==============================\n",
      "\n",
      "at_file = /tmp/atoms_db.xyz\n",
      "gap = \"distance_Nb order=2 cutoff=5.0 covariance_type=ARD_SE theta_uniform=1.0 n_sparse=15 delta=1.0\"\n",
      "e0 = -29.716948405885105\n",
      "local_property0 = 0.0\n",
      "e0_offset = 0.0\n",
      "e0_method = isolated\n",
      "default_sigma = \"0.01 0.5 0.0 0.0\"\n",
      "sparse_jitter = 1.0e-10\n",
      "hessian_delta = 1.0e-2\n",
      "core_param_file = quip_params.xml\n",
      "core_ip_args =\n",
      "energy_parameter_name = energy\n",
      "local_property_parameter_name = local_property\n",
      "force_parameter_name = force\n",
      "virial_parameter_name = virial\n",
      "hessian_parameter_name = hessian\n",
      "config_type_parameter_name = config_type\n",
      "sigma_parameter_name = sigma\n",
      "config_type_sigma =\n",
      "sigma_per_atom = T\n",
      "do_copy_at_file = F\n",
      "sparse_separate_file = F\n",
      "sparse_use_actual_gpcov = F\n",
      "gp_file = /tmp/gap_2b.xml\n",
      "verbosity = NORMAL\n",
      "rnd_seed = -1\n",
      "do_ip_timing = F\n",
      "template_file = template.xyz\n",
      "sparsify_only_no_fit = F\n",
      "\n",
      "========================================  ======================================\n",
      "\n",
      "\n",
      "============== Gaussian Approximation Potentials - Database fitting ============\n",
      "\n",
      "\n",
      "Initial parsing of command line arguments finished.\n",
      "Found 1 GAPs.\n",
      "Descriptors have been parsed\n",
      "XYZ file read\n",
      "Unchanged GAP: {distance_Nb order=2 cutoff=5.0 covariance_type=ARD_SE theta_uniform=1.0 n_sparse=15 delta=1.0}\n",
      "Multispecies support added where requested\n",
      "\n",
      "===================== Report on number of descriptors found ====================\n",
      "\n",
      "---------------------------------------------------------------------\n",
      "Descriptor: distance_Nb order=2 cutoff=5.0 covariance_type=ARD_SE theta_uniform=1.0 n_sparse=15 delta=1.0\n",
      "Number of descriptors:                        35312\n",
      "Number of partial derivatives of descriptors: 0\n",
      "\n",
      "========================================  ======================================\n",
      "\n",
      "\n",
      "========== Report on number of target properties found in training XYZ: ========\n",
      "\n",
      "Number of target energies (property name: energy) found: 100\n",
      "Number of target local_properties (property name: local_property) found: 0\n",
      "Number of target forces (property name: force) found: 0\n",
      "Number of target virials (property name: virial) found: 0\n",
      "Number of target Hessian eigenvalues (property name: hessian) found: 0\n",
      "\n",
      "================================= End of report ================================\n",
      "\n",
      "\n",
      "===== Report on per-configuration/per-atom sigma (error parameter) settings ====\n",
      "\n",
      "Number of per-configuration setting of energy_sigma found:     0\n",
      "Number of per-configuration setting of force_sigma found:      0\n",
      "Number of per-configuration setting of virial_sigma found:     0\n",
      "Number of per-configuration setting of hessian_sigma found:    0\n",
      "Number of per-atom setting of force_atom_sigma found:          0\n",
      "\n",
      "================================= End of report ================================\n",
      "\n",
      "Cartesian coordinates transformed to descriptors\n",
      "Started sparse covariance matrix calculation of coordinate 1\n",
      "\n",
      "Finished sparse covariance matrix calculation of coordinate 1\n",
      "TIMER: gpFull_covarianceMatrix_sparse_Coordinate1_sparse  done in 1.9402960000000000 cpu secs, .60122609138488770 wall clock secs.\n",
      "TIMER: gpFull_covarianceMatrix_sparse_Coordinate1         done in 1.9403350000000001 cpu secs, .60126590728759766 wall clock secs.\n",
      "TIMER: gpFull_covarianceMatrix_sparse_LinearAlgebra       done in .12049999999996786E-002 cpu secs, .34060478210449219E-002 wall clock secs.\n",
      "TIMER: gpFull_covarianceMatrix_sparse_FunctionValues      done in .19999999998354667E-005 cpu secs, .19073486328125000E-005 wall clock secs.\n",
      "TIMER: gpFull_covarianceMatrix_sparse                     done in 1.9416529999999999 cpu secs, .60478305816650391 wall clock secs.\n",
      "TIMER: GP sparsify                                        done in 1.9490180000000001 cpu secs, .61529493331909180 wall clock secs.\n",
      "\n",
      "libAtoms::Finalise: 07/10/2019   17:17:00\n",
      "libAtoms::Finalise: Bye-Bye!\n"
     ]
    }
   ],
   "source": [
    "!gap_fit at_file=/tmp/atoms_db.xyz \\\n",
    "gap={distance_Nb order=2 \\\n",
    "                 cutoff=5.0 \\\n",
    "                 covariance_type=ARD_SE \\\n",
    "                 theta_uniform=1.0 \\\n",
    "                 n_sparse=15 \\\n",
    "                 delta=1.0} \\\n",
    "e0=-29.716948405885105 \\\n",
    "default_sigma={0.01 0.5 0.0 0.0} \\\n",
    "do_copy_at_file=F sparse_separate_file=F \\\n",
    "gp_file=/tmp/gap_2b.xml"
   ]
  },
  {
   "cell_type": "markdown",
   "metadata": {},
   "source": [
    "We can load and use the fitted potential:"
   ]
  },
  {
   "cell_type": "code",
   "execution_count": 37,
   "metadata": {
    "ExecuteTime": {
     "end_time": "2019-09-25T22:45:04.656987Z",
     "start_time": "2019-09-25T22:45:04.588090Z"
    }
   },
   "outputs": [],
   "source": [
    "gap2b = Potential(param_filename='/tmp/gap_2b.xml')"
   ]
  },
  {
   "cell_type": "markdown",
   "metadata": {},
   "source": [
    "We can calculate the potential energies using the new potential and compare them with the TB DFTB ones"
   ]
  },
  {
   "cell_type": "code",
   "execution_count": 38,
   "metadata": {
    "ExecuteTime": {
     "end_time": "2019-09-25T22:45:05.177506Z",
     "start_time": "2019-09-25T22:45:04.662859Z"
    }
   },
   "outputs": [],
   "source": [
    "qm_energies = [at.info['energy'] for at in db]\n",
    "gap2b_energies = []\n",
    "for dba in db:\n",
    "    a = dba.copy()\n",
    "    a.set_calculator(gap2b)\n",
    "    gap2b_energies.append(a.get_potential_energy())\n",
    "    "
   ]
  },
  {
   "cell_type": "code",
   "execution_count": 39,
   "metadata": {
    "ExecuteTime": {
     "end_time": "2019-09-25T22:45:05.520489Z",
     "start_time": "2019-09-25T22:45:05.193607Z"
    }
   },
   "outputs": [
    {
     "data": {
      "image/png": "[encoded data removed]",
      "text/plain": [
       "<Figure size 432x288 with 1 Axes>"
      ]
     },
     "metadata": {
      "needs_background": "light"
     },
     "output_type": "display_data"
    }
   ],
   "source": [
    "Natoms = len(db[0])\n",
    "plt.scatter(np.array(qm_energies)/Natoms, np.array(gap2b_energies)/Natoms)\n",
    "plt.plot([E0-5.0, E0-5.0+0.05], [E0-5.0, E0-5.0+0.05], \"k-\")\n",
    "plt.show()"
   ]
  },
  {
   "cell_type": "markdown",
   "metadata": {},
   "source": [
    "We can also calculate the RMSE (in meV) as follows:"
   ]
  },
  {
   "cell_type": "code",
   "execution_count": 40,
   "metadata": {
    "ExecuteTime": {
     "end_time": "2019-09-25T22:45:05.536356Z",
     "start_time": "2019-09-25T22:45:05.523695Z"
    }
   },
   "outputs": [
    {
     "data": {
      "text/plain": [
       "0.035992967464800296"
      ]
     },
     "execution_count": 40,
     "metadata": {},
     "output_type": "execute_result"
    }
   ],
   "source": [
    "np.sqrt(sum((np.array(qm_energies)/Natoms - np.array(gap2b_energies)/Natoms)**2)/len(gap2b_energies))"
   ]
  },
  {
   "cell_type": "markdown",
   "metadata": {},
   "source": [
    "We can generate dimers for visualising the pairwise potential: "
   ]
  },
  {
   "cell_type": "code",
   "execution_count": 41,
   "metadata": {
    "ExecuteTime": {
     "end_time": "2019-09-25T22:45:05.597970Z",
     "start_time": "2019-09-25T22:45:05.546577Z"
    }
   },
   "outputs": [],
   "source": [
    "dimers = [Atoms(\"2Si\", positions=[[0,0,0], [x, 0,0]]) for x in np.linspace(1.6,6,100)] "
   ]
  },
  {
   "cell_type": "code",
   "execution_count": 42,
   "metadata": {
    "ExecuteTime": {
     "end_time": "2019-09-25T22:45:06.323384Z",
     "start_time": "2019-09-25T22:45:05.606577Z"
    }
   },
   "outputs": [],
   "source": [
    "dimer_curve = []\n",
    "for dim in dimers:\n",
    "    dim.set_calculator(gap2b)\n",
    "    dimer_curve.append(dim.get_potential_energy())"
   ]
  },
  {
   "cell_type": "code",
   "execution_count": 43,
   "metadata": {
    "ExecuteTime": {
     "end_time": "2019-09-25T22:45:06.525582Z",
     "start_time": "2019-09-25T22:45:06.328890Z"
    },
    "scrolled": true
   },
   "outputs": [
    {
     "data": {
      "image/png": "[encoded data removed]",
      "text/plain": [
       "<Figure size 432x288 with 1 Axes>"
      ]
     },
     "metadata": {
      "needs_background": "light"
     },
     "output_type": "display_data"
    }
   ],
   "source": [
    "plt.plot([dim.positions[1,0] for dim in dimers], np.array(dimer_curve)/2.0)\n",
    "plt.show()"
   ]
  },
  {
   "cell_type": "markdown",
   "metadata": {},
   "source": [
    "## Fitting the 2 and 3-body potential"
   ]
  },
  {
   "cell_type": "code",
   "execution_count": 44,
   "metadata": {
    "ExecuteTime": {
     "end_time": "2019-09-25T22:45:12.737049Z",
     "start_time": "2019-09-25T22:45:06.528195Z"
    },
    "scrolled": false
   },
   "outputs": [
    {
     "name": "stdout",
     "output_type": "stream",
     "text": [
      "libAtoms::Hello World: 07/10/2019   17:17:09\n",
      "libAtoms::Hello World: git version  git@github.com:/libAtoms/QUIP,d204dca49-dirty\n",
      "libAtoms::Hello World: QUIP_ARCH    darwin_x86_64_gfortran_openmp\n",
      "libAtoms::Hello World: compiled on  Aug  7 2019 at 14:13:45\n",
      "libAtoms::Hello World: OpenMP parallelisation with 4 threads\n",
      "WARNING: libAtoms::Hello World: environment variable OMP_STACKSIZE not set explicitly. The default value - system and compiler dependent - may be too small for some applications.\n",
      "libAtoms::Hello World: Random Seed = 62229764\n",
      "libAtoms::Hello World: global verbosity = 0\n",
      "\n",
      "Calls to system_timer will do nothing by default\n",
      "\n",
      "\n",
      "================================ Input parameters ==============================\n",
      "\n",
      "at_file = /tmp/atoms_db.xyz\n",
      "gap = \"distance_Nb order=2 cutoff=5.0 covariance_type=ARD_SE theta_uniform=1.0 n_sparse=15 delta=1.0: distance_Nb order=3 cutoff=4.0 covariance_type=ARD_SE theta_uniform=1.0 n_sparse=50 delta=0.004\"\n",
      "e0 = -29.716948405885105\n",
      "local_property0 = 0.0\n",
      "e0_offset = 0.0\n",
      "e0_method = isolated\n",
      "default_sigma = \"0.005 0.5 0.0 0.0\"\n",
      "sparse_jitter = 1.0e-10\n",
      "hessian_delta = 1.0e-2\n",
      "core_param_file = quip_params.xml\n",
      "core_ip_args =\n",
      "energy_parameter_name = energy\n",
      "local_property_parameter_name = local_property\n",
      "force_parameter_name = force\n",
      "virial_parameter_name = virial\n",
      "hessian_parameter_name = hessian\n",
      "config_type_parameter_name = config_type\n",
      "sigma_parameter_name = sigma\n",
      "config_type_sigma =\n",
      "sigma_per_atom = T\n",
      "do_copy_at_file = F\n",
      "sparse_separate_file = F\n",
      "sparse_use_actual_gpcov = F\n",
      "gp_file = /tmp/gap_3b.xml\n",
      "verbosity = NORMAL\n",
      "rnd_seed = -1\n",
      "do_ip_timing = F\n",
      "template_file = template.xyz\n",
      "sparsify_only_no_fit = F\n",
      "\n",
      "========================================  ======================================\n",
      "\n",
      "\n",
      "============== Gaussian Approximation Potentials - Database fitting ============\n",
      "\n",
      "\n",
      "Initial parsing of command line arguments finished.\n",
      "Found 2 GAPs.\n",
      "Descriptors have been parsed\n",
      "XYZ file read\n",
      "Unchanged GAP: {distance_Nb order=2 cutoff=5.0 covariance_type=ARD_SE theta_uniform=1.0 n_sparse=15 delta=1.0}\n",
      "Unchanged GAP: { distance_Nb order=3 cutoff=4.0 covariance_type=ARD_SE theta_uniform=1.0 n_sparse=50 delta=0.004}\n",
      "Multispecies support added where requested\n",
      "\n",
      "===================== Report on number of descriptors found ====================\n",
      "\n",
      "---------------------------------------------------------------------\n",
      "Descriptor: distance_Nb order=2 cutoff=5.0 covariance_type=ARD_SE theta_uniform=1.0 n_sparse=15 delta=1.0\n",
      "Number of descriptors:                        35312\n",
      "Number of partial derivatives of descriptors: 0\n",
      "---------------------------------------------------------------------\n",
      "Descriptor:  distance_Nb order=3 cutoff=4.0 covariance_type=ARD_SE theta_uniform=1.0 n_sparse=50 delta=0.004\n",
      "Number of descriptors:                        150164\n",
      "Number of partial derivatives of descriptors: 0\n",
      "\n",
      "========================================  ======================================\n",
      "\n",
      "\n",
      "========== Report on number of target properties found in training XYZ: ========\n",
      "\n",
      "Number of target energies (property name: energy) found: 100\n",
      "Number of target local_properties (property name: local_property) found: 0\n",
      "Number of target forces (property name: force) found: 0\n",
      "Number of target virials (property name: virial) found: 0\n",
      "Number of target Hessian eigenvalues (property name: hessian) found: 0\n",
      "\n",
      "================================= End of report ================================\n",
      "\n",
      "\n",
      "===== Report on per-configuration/per-atom sigma (error parameter) settings ====\n",
      "\n",
      "Number of per-configuration setting of energy_sigma found:     0\n",
      "Number of per-configuration setting of force_sigma found:      0\n",
      "Number of per-configuration setting of virial_sigma found:     0\n",
      "Number of per-configuration setting of hessian_sigma found:    0\n",
      "Number of per-atom setting of force_atom_sigma found:          0\n",
      "\n",
      "================================= End of report ================================\n",
      "\n",
      "Cartesian coordinates transformed to descriptors\n",
      "Started sparse covariance matrix calculation of coordinate 1\n",
      "\n",
      "Finished sparse covariance matrix calculation of coordinate 1\n",
      "TIMER: gpFull_covarianceMatrix_sparse_Coordinate1_sparse  done in 1.9191969999999996 cpu secs, .61768078804016113 wall clock secs.\n",
      "TIMER: gpFull_covarianceMatrix_sparse_Coordinate1         done in 1.9192260000000001 cpu secs, .61770915985107422 wall clock secs.\n",
      "Started sparse covariance matrix calculation of coordinate 2\n",
      "\n",
      "Finished sparse covariance matrix calculation of coordinate 2\n",
      "TIMER: gpFull_covarianceMatrix_sparse_Coordinate2_sparse  done in 53.109310000000001 cpu secs, 15.321249008178711 wall clock secs.\n",
      "TIMER: gpFull_covarianceMatrix_sparse_Coordinate2         done in 53.109337000000004 cpu secs, 15.321274995803833 wall clock secs.\n",
      "TIMER: gpFull_covarianceMatrix_sparse_LinearAlgebra       done in .18150000000005662E-002 cpu secs, .74031352996826172E-002 wall clock secs.\n",
      "TIMER: gpFull_covarianceMatrix_sparse_FunctionValues      done in .40000000041118255E-005 cpu secs, .28610229492187500E-005 wall clock secs.\n",
      "TIMER: gpFull_covarianceMatrix_sparse                     done in 55.030578999999996 cpu secs, 15.946585178375244 wall clock secs.\n",
      "TIMER: GP sparsify                                        done in 55.042788999999999 cpu secs, 15.960463762283325 wall clock secs.\n",
      "\n",
      "libAtoms::Finalise: 07/10/2019   17:17:29\n",
      "libAtoms::Finalise: Bye-Bye!\n"
     ]
    }
   ],
   "source": [
    "!gap_fit at_file=/tmp/atoms_db.xyz \\\n",
    "gap={distance_Nb order=2 \\\n",
    "                 cutoff=5.0 \\\n",
    "                 covariance_type=ARD_SE \\\n",
    "                 theta_uniform=1.0 \\\n",
    "                 n_sparse=15 \\\n",
    "                 delta=1.0:\\\n",
    "     distance_Nb order=3 \\\n",
    "                 cutoff=4.0 \\\n",
    "                 covariance_type=ARD_SE \\\n",
    "                 theta_uniform=1.0 \\\n",
    "                 n_sparse=50 \\\n",
    "                 delta=0.004} \\\n",
    "e0=-29.716948405885105 \\\n",
    "default_sigma={0.005 0.5 0.0 0.0} \\\n",
    "do_copy_at_file=F sparse_separate_file=F \\\n",
    "gp_file=/tmp/gap_3b.xml"
   ]
  },
  {
   "cell_type": "markdown",
   "metadata": {},
   "source": [
    "We can load and use the fitted potential:"
   ]
  },
  {
   "cell_type": "code",
   "execution_count": 45,
   "metadata": {
    "ExecuteTime": {
     "end_time": "2019-09-25T22:45:16.351886Z",
     "start_time": "2019-09-25T22:45:12.746747Z"
    }
   },
   "outputs": [],
   "source": [
    "gap3b = Potential(param_filename='/tmp/gap_3b.xml')\n",
    "gap3b_energies = []\n",
    "for at in db:\n",
    "    a = at.copy()\n",
    "    a.set_calculator(gap3b)\n",
    "    gap3b_energies.append(a.get_potential_energy())\n",
    "    "
   ]
  },
  {
   "cell_type": "markdown",
   "metadata": {},
   "source": [
    "We can also calculate the RMSE (in meV) as follows:"
   ]
  },
  {
   "cell_type": "code",
   "execution_count": 46,
   "metadata": {
    "ExecuteTime": {
     "end_time": "2019-09-25T22:45:16.372123Z",
     "start_time": "2019-09-25T22:45:16.355463Z"
    }
   },
   "outputs": [
    {
     "data": {
      "text/plain": [
       "0.010408552706046549"
      ]
     },
     "execution_count": 46,
     "metadata": {},
     "output_type": "execute_result"
    }
   ],
   "source": [
    "np.sqrt(sum((np.array(qm_energies)/Natoms - np.array(gap3b_energies)/Natoms)**2)/len(gap3b_energies))"
   ]
  },
  {
   "cell_type": "code",
   "execution_count": 47,
   "metadata": {
    "ExecuteTime": {
     "end_time": "2019-09-25T22:45:16.693223Z",
     "start_time": "2019-09-25T22:45:16.399472Z"
    }
   },
   "outputs": [
    {
     "data": {
      "image/png": "[encoded data removed]",
      "text/plain": [
       "<Figure size 432x288 with 1 Axes>"
      ]
     },
     "metadata": {
      "needs_background": "light"
     },
     "output_type": "display_data"
    }
   ],
   "source": [
    "plt.scatter(np.array(qm_energies)/Natoms, np.array(gap3b_energies)/Natoms)\n",
    "plt.show()"
   ]
  },
  {
   "cell_type": "markdown",
   "metadata": {},
   "source": [
    "We can generate dimers for visualising the pairwise potential: "
   ]
  },
  {
   "cell_type": "code",
   "execution_count": 48,
   "metadata": {
    "ExecuteTime": {
     "end_time": "2019-09-25T22:45:17.307236Z",
     "start_time": "2019-09-25T22:45:16.697565Z"
    }
   },
   "outputs": [
    {
     "data": {
      "image/png": "[encoded data removed]",
      "text/plain": [
       "<Figure size 432x288 with 1 Axes>"
      ]
     },
     "metadata": {
      "needs_background": "light"
     },
     "output_type": "display_data"
    }
   ],
   "source": [
    "dimer_curve = []\n",
    "for dim in dimers:\n",
    "    dim.set_calculator(gap3b)\n",
    "    dimer_curve.append(dim.get_potential_energy())\n",
    "    \n",
    "plt.plot([dim.positions[1,0] for dim in dimers], np.array(dimer_curve)/2.0)\n",
    "plt.show()"
   ]
  },
  {
   "cell_type": "markdown",
   "metadata": {},
   "source": [
    "## Fitting the 2 and 3-body  and SOAP potential"
   ]
  },
  {
   "cell_type": "markdown",
   "metadata": {},
   "source": [
    "We will describe that environment using the SOAP descriptor and compare them using the SOAP kernel. Note right away that the quantum mechanically computed energies are not fully determined by the near-environment of atoms, so this is an early indication that we will be making use of the \"noise\" interpretation of the $\\lambda$ regularization parameter: we don't expect (and don't want) our fitted function to precisely go through each datapoint.\n",
    "\n",
    "The SOAP descriptor of an atomic environment is based on a spherical harmonic expansion of the neighbour density, and truncating this expansion at some maximum numer of radial (n_max) and angular (l_max) indices gives rise to some parameters. We also need to give the cutoff within which we consider the neighbour environment.\n",
    "\n",
    "Writing the descriptor vector as $p_{ss'nn'l}$, where $s$ and $s'$ are indices that run over the different atomic species in the atom's environment, $n$ and $n'$ are radial and $l$ is an angular index, the kernel between two atomic environments is\n",
    "\n",
    "$$\n",
    "K(p,p') = \\delta^2 \\left| \\sum_{ss'nn'l} p_{ss'nn'l} p'_{ss'nn'l}\\right|^\\zeta \\equiv \\delta^2 \\left| {\\bf p} \\cdot {\\bf p'}\\right|^\\zeta\n",
    "$$\n",
    "\n",
    "The factor of $\\delta^2$ allows the setting of the scale of fitted function, relative to the error specification $\\lambda$. "
   ]
  },
  {
   "cell_type": "code",
   "execution_count": 49,
   "metadata": {
    "ExecuteTime": {
     "end_time": "2019-09-25T22:45:24.495956Z",
     "start_time": "2019-09-25T22:45:17.312801Z"
    },
    "scrolled": false
   },
   "outputs": [
    {
     "name": "stdout",
     "output_type": "stream",
     "text": [
      "libAtoms::Hello World: 07/10/2019   17:17:32\n",
      "libAtoms::Hello World: git version  git@github.com:/libAtoms/QUIP,d204dca49-dirty\n",
      "libAtoms::Hello World: QUIP_ARCH    darwin_x86_64_gfortran_openmp\n",
      "libAtoms::Hello World: compiled on  Aug  7 2019 at 14:13:45\n",
      "libAtoms::Hello World: OpenMP parallelisation with 4 threads\n",
      "WARNING: libAtoms::Hello World: environment variable OMP_STACKSIZE not set explicitly. The default value - system and compiler dependent - may be too small for some applications.\n",
      "libAtoms::Hello World: Random Seed = 62252544\n",
      "libAtoms::Hello World: global verbosity = 0\n",
      "\n",
      "Calls to system_timer will do nothing by default\n",
      "\n",
      "\n",
      "================================ Input parameters ==============================\n",
      "\n",
      "at_file = /tmp/atoms_db.xyz\n",
      "gap = \"distance_Nb order=2 cutoff=5.0 covariance_type=ARD_SE theta_uniform=1.0 n_sparse=15 delta=1.0: distance_Nb order=3 cutoff=4.0 covariance_type=ARD_SE theta_uniform=1.0 n_sparse=50 delta=0.004: soap cutoff=4.0 covariance_type=dot_product zeta=2 delta=0.016 atom_sigma=0.7 l_max=6 n_max=6 n_sparse=200 sparse_method=cur_points\"\n",
      "e0 = -29.716948405885105\n",
      "local_property0 = 0.0\n",
      "e0_offset = 0.0\n",
      "e0_method = isolated\n",
      "default_sigma = \"0.001 0.5 0.0 0.0\"\n",
      "sparse_jitter = 1.0e-10\n",
      "hessian_delta = 1.0e-2\n",
      "core_param_file = quip_params.xml\n",
      "core_ip_args =\n",
      "energy_parameter_name = energy\n",
      "local_property_parameter_name = local_property\n",
      "force_parameter_name = force\n",
      "virial_parameter_name = virial\n",
      "hessian_parameter_name = hessian\n",
      "config_type_parameter_name = config_type\n",
      "sigma_parameter_name = sigma\n",
      "config_type_sigma =\n",
      "sigma_per_atom = T\n",
      "do_copy_at_file = F\n",
      "sparse_separate_file = F\n",
      "sparse_use_actual_gpcov = F\n",
      "gp_file = /tmp/gap_2b3bsoap.xml\n",
      "verbosity = NORMAL\n",
      "rnd_seed = -1\n",
      "do_ip_timing = F\n",
      "template_file = template.xyz\n",
      "sparsify_only_no_fit = F\n",
      "\n",
      "========================================  ======================================\n",
      "\n",
      "\n",
      "============== Gaussian Approximation Potentials - Database fitting ============\n",
      "\n",
      "\n",
      "Initial parsing of command line arguments finished.\n",
      "Found 3 GAPs.\n",
      "Descriptors have been parsed\n",
      "XYZ file read\n",
      "Unchanged GAP: {distance_Nb order=2 cutoff=5.0 covariance_type=ARD_SE theta_uniform=1.0 n_sparse=15 delta=1.0}\n",
      "Unchanged GAP: { distance_Nb order=3 cutoff=4.0 covariance_type=ARD_SE theta_uniform=1.0 n_sparse=50 delta=0.004}\n",
      "Unchanged GAP: { soap cutoff=4.0 covariance_type=dot_product zeta=2 delta=0.016 atom_sigma=0.7 l_max=6 n_max=6 n_sparse=200 sparse_method=cur_points}\n",
      "Multispecies support added where requested\n",
      "\n",
      "===================== Report on number of descriptors found ====================\n",
      "\n",
      "---------------------------------------------------------------------\n",
      "Descriptor: distance_Nb order=2 cutoff=5.0 covariance_type=ARD_SE theta_uniform=1.0 n_sparse=15 delta=1.0\n",
      "Number of descriptors:                        35312\n",
      "Number of partial derivatives of descriptors: 0\n",
      "---------------------------------------------------------------------\n",
      "Descriptor:  distance_Nb order=3 cutoff=4.0 covariance_type=ARD_SE theta_uniform=1.0 n_sparse=50 delta=0.004\n",
      "Number of descriptors:                        150164\n",
      "Number of partial derivatives of descriptors: 0\n",
      "---------------------------------------------------------------------\n",
      "Descriptor:  soap cutoff=4.0 covariance_type=dot_product zeta=2 delta=0.016 atom_sigma=0.7 l_max=6 n_max=6 n_sparse=200 sparse_method=cur_points\n",
      "Number of descriptors:                        3200\n",
      "Number of partial derivatives of descriptors: 0\n",
      "\n",
      "========================================  ======================================\n",
      "\n",
      "\n",
      "========== Report on number of target properties found in training XYZ: ========\n",
      "\n",
      "Number of target energies (property name: energy) found: 100\n",
      "Number of target local_properties (property name: local_property) found: 0\n",
      "Number of target forces (property name: force) found: 0\n",
      "Number of target virials (property name: virial) found: 0\n",
      "Number of target Hessian eigenvalues (property name: hessian) found: 0\n",
      "\n",
      "================================= End of report ================================\n",
      "\n",
      "\n",
      "===== Report on per-configuration/per-atom sigma (error parameter) settings ====\n",
      "\n",
      "Number of per-configuration setting of energy_sigma found:     0\n",
      "Number of per-configuration setting of force_sigma found:      0\n",
      "Number of per-configuration setting of virial_sigma found:     0\n",
      "Number of per-configuration setting of hessian_sigma found:    0\n",
      "Number of per-atom setting of force_atom_sigma found:          0\n",
      "\n",
      "================================= End of report ================================\n",
      "\n",
      "Started CUR decomposition\n",
      "cur_decomposition: iteration: 1, error: .34329063034235423E-015\n",
      "Finished CUR decomposition\n",
      "Cartesian coordinates transformed to descriptors\n",
      "Started sparse covariance matrix calculation of coordinate 1\n",
      "\n",
      "Finished sparse covariance matrix calculation of coordinate 1\n",
      "TIMER: gpFull_covarianceMatrix_sparse_Coordinate1_sparse  done in 1.9762869999999992 cpu secs, .54421901702880859 wall clock secs.\n",
      "TIMER: gpFull_covarianceMatrix_sparse_Coordinate1         done in 1.9763460000000004 cpu secs, .54428696632385254 wall clock secs.\n",
      "Started sparse covariance matrix calculation of coordinate 2\n",
      "\n",
      "Finished sparse covariance matrix calculation of coordinate 2\n",
      "TIMER: gpFull_covarianceMatrix_sparse_Coordinate2_sparse  done in 52.650658000000000 cpu secs, 14.171960830688477 wall clock secs.\n",
      "TIMER: gpFull_covarianceMatrix_sparse_Coordinate2         done in 52.650689000000000 cpu secs, 14.171991109848022 wall clock secs.\n",
      "Started sparse covariance matrix calculation of coordinate 3\n",
      "Covariance matrix 100% |********************|   0.3 /   0.3 s\n",
      "Finished sparse covariance matrix calculation of coordinate 3\n",
      "TIMER: gpFull_covarianceMatrix_sparse_Coordinate3_sparse  done in .69204299999999819 cpu secs, .25782394409179688 wall clock secs.\n",
      "TIMER: gpFull_covarianceMatrix_sparse_Coordinate3         done in .69208299999999667 cpu secs, .25786900520324707 wall clock secs.\n",
      "TIMER: gpFull_covarianceMatrix_sparse_LinearAlgebra       done in .10295999999999594 cpu secs, .42098045349121094E-001 wall clock secs.\n",
      "TIMER: gpFull_covarianceMatrix_sparse_FunctionValues      done in .20000000020559128E-005 cpu secs, .21457672119140625E-005 wall clock secs.\n",
      "TIMER: gpFull_covarianceMatrix_sparse                     done in 55.422404999999998 cpu secs, 15.016569852828979 wall clock secs.\n",
      "TIMER: GP sparsify                                        done in 55.621861000000003 cpu secs, 15.223239183425903 wall clock secs.\n",
      "\n",
      "libAtoms::Finalise: 07/10/2019   17:17:51\n",
      "libAtoms::Finalise: Bye-Bye!\n"
     ]
    }
   ],
   "source": [
    "!gap_fit at_file=/tmp/atoms_db.xyz \\\n",
    "gap={distance_Nb order=2 \\\n",
    "                 cutoff=5.0 \\\n",
    "                 covariance_type=ARD_SE \\\n",
    "                 theta_uniform=1.0 \\\n",
    "                 n_sparse=15 \\\n",
    "                 delta=1.0:\\\n",
    "     distance_Nb order=3 \\\n",
    "                 cutoff=4.0 \\\n",
    "                 covariance_type=ARD_SE \\\n",
    "                 theta_uniform=1.0 \\\n",
    "                 n_sparse=50 \\\n",
    "                 delta=0.004:\\\n",
    "     soap cutoff=4.0 \\\n",
    "          covariance_type=dot_product \\\n",
    "          zeta=2 \\\n",
    "          delta=0.016 \\\n",
    "          atom_sigma=0.7 \\\n",
    "          l_max=6 \\\n",
    "          n_max=6 \\\n",
    "          n_sparse=200 \\\n",
    "          sparse_method=cur_points} \\\n",
    "e0=-29.716948405885105 \\\n",
    "default_sigma={0.001 0.5 0.0 0.0} \\\n",
    "do_copy_at_file=F sparse_separate_file=F \\\n",
    "gp_file=/tmp/gap_2b3bsoap.xml 2>&1 | grep -v FoX"
   ]
  },
  {
   "cell_type": "markdown",
   "metadata": {},
   "source": [
    "We can load and use the fitted potential:"
   ]
  },
  {
   "cell_type": "code",
   "execution_count": 50,
   "metadata": {
    "ExecuteTime": {
     "end_time": "2019-09-25T22:45:31.872466Z",
     "start_time": "2019-09-25T22:45:24.499581Z"
    }
   },
   "outputs": [],
   "source": [
    "gap_soap = Potential(param_filename='/tmp/gap_2b3bsoap.xml')\n",
    "gap_energies = []\n",
    "for at in db:\n",
    "    a = at.copy()\n",
    "    a.set_calculator(gap_soap)\n",
    "    gap_energies.append(a.get_potential_energy())"
   ]
  },
  {
   "cell_type": "markdown",
   "metadata": {},
   "source": [
    "We can also calculate the RMSE (in meV) as follows:"
   ]
  },
  {
   "cell_type": "code",
   "execution_count": 51,
   "metadata": {
    "ExecuteTime": {
     "end_time": "2019-09-25T22:45:31.955836Z",
     "start_time": "2019-09-25T22:45:31.898441Z"
    }
   },
   "outputs": [
    {
     "data": {
      "text/plain": [
       "0.004254157149981674"
      ]
     },
     "execution_count": 51,
     "metadata": {},
     "output_type": "execute_result"
    }
   ],
   "source": [
    "np.sqrt(sum((np.array(qm_energies)/Natoms - np.array(gap_energies)/Natoms)**2)/len(gap_energies))"
   ]
  },
  {
   "cell_type": "code",
   "execution_count": 52,
   "metadata": {
    "ExecuteTime": {
     "end_time": "2019-09-25T22:45:32.246843Z",
     "start_time": "2019-09-25T22:45:31.959788Z"
    }
   },
   "outputs": [
    {
     "data": {
      "image/png": "[encoded data removed]",
      "text/plain": [
       "<Figure size 432x288 with 1 Axes>"
      ]
     },
     "metadata": {
      "needs_background": "light"
     },
     "output_type": "display_data"
    }
   ],
   "source": [
    "plt.scatter(np.array(qm_energies)/Natoms, np.array(gap_energies)/Natoms)\n",
    "plt.show()"
   ]
  },
  {
   "cell_type": "markdown",
   "metadata": {},
   "source": [
    "## Using GAP for MD\n",
    "We can use now use the fitted potential to do MD or geometry relaxation:"
   ]
  },
  {
   "cell_type": "code",
   "execution_count": 53,
   "metadata": {
    "ExecuteTime": {
     "end_time": "2019-09-25T22:45:32.259896Z",
     "start_time": "2019-09-25T22:45:32.250418Z"
    }
   },
   "outputs": [],
   "source": [
    "#attach tight binding calculator\n",
    "atoms.set_calculator(gap_soap)\n",
    "\n",
    "# Thermalize atoms\n",
    "# MaxwellBoltzmannDistribution(atoms, 2.0* T * units.kB)\n",
    "\n",
    "# dynamics = VelocityVerlet(atoms, timestep)\n",
    "dynamics = Langevin(atoms, timestep, T * units.kB, 0.002)\n",
    "    \n",
    "dynamics.attach(print_status, interval=10)\n",
    "dynamics.attach(print_energy, interval=10)"
   ]
  },
  {
   "cell_type": "markdown",
   "metadata": {},
   "source": [
    "Dynamics:"
   ]
  },
  {
   "cell_type": "code",
   "execution_count": 54,
   "metadata": {
    "ExecuteTime": {
     "end_time": "2019-09-25T22:45:45.128606Z",
     "start_time": "2019-09-25T22:45:32.265254Z"
    }
   },
   "outputs": [
    {
     "name": "stdout",
     "output_type": "stream",
     "text": [
      "Step = 0, time = 0.0 [fs], T = 1294.479828341841 [K]\n",
      "Energy per atom: Epot = -34.698eV  Ekin = 0.167eV (T=1294K)  Etot = -34.531eV\n",
      "Step = 10, time = 10.0 [fs], T = 1189.7904138587505 [K]\n",
      "Energy per atom: Epot = -34.685eV  Ekin = 0.154eV (T=1190K)  Etot = -34.531eV\n",
      "Step = 20, time = 20.0 [fs], T = 1264.3379093179376 [K]\n",
      "Energy per atom: Epot = -34.696eV  Ekin = 0.163eV (T=1264K)  Etot = -34.533eV\n",
      "Step = 30, time = 30.0 [fs], T = 1457.3725237044011 [K]\n",
      "Energy per atom: Epot = -34.721eV  Ekin = 0.188eV (T=1457K)  Etot = -34.533eV\n",
      "Step = 40, time = 40.0 [fs], T = 1388.8679832826024 [K]\n",
      "Energy per atom: Epot = -34.715eV  Ekin = 0.180eV (T=1389K)  Etot = -34.536eV\n",
      "Step = 50, time = 50.00000000000001 [fs], T = 1561.736378264197 [K]\n",
      "Energy per atom: Epot = -34.738eV  Ekin = 0.202eV (T=1562K)  Etot = -34.536eV\n",
      "Step = 60, time = 60.0 [fs], T = 2028.6943305981565 [K]\n",
      "Energy per atom: Epot = -34.800eV  Ekin = 0.262eV (T=2029K)  Etot = -34.538eV\n",
      "Step = 70, time = 70.0 [fs], T = 1568.5562709553685 [K]\n",
      "Energy per atom: Epot = -34.737eV  Ekin = 0.203eV (T=1569K)  Etot = -34.535eV\n",
      "Step = 80, time = 80.0 [fs], T = 1886.3013570587461 [K]\n",
      "Energy per atom: Epot = -34.779eV  Ekin = 0.244eV (T=1886K)  Etot = -34.535eV\n",
      "Step = 90, time = 90.0 [fs], T = 1928.3315444589239 [K]\n",
      "Energy per atom: Epot = -34.787eV  Ekin = 0.249eV (T=1928K)  Etot = -34.537eV\n",
      "Step = 100, time = 100.00000000000001 [fs], T = 1727.5769477863184 [K]\n",
      "Energy per atom: Epot = -34.761eV  Ekin = 0.223eV (T=1728K)  Etot = -34.538eV\n"
     ]
    },
    {
     "data": {
      "text/plain": [
       "True"
      ]
     },
     "execution_count": 54,
     "metadata": {},
     "output_type": "execute_result"
    }
   ],
   "source": [
    "dynamics.run(steps=100)"
   ]
  },
  {
   "cell_type": "markdown",
   "metadata": {},
   "source": [
    "Geometry optimisation:"
   ]
  },
  {
   "cell_type": "code",
   "execution_count": 55,
   "metadata": {
    "ExecuteTime": {
     "end_time": "2019-09-25T22:45:45.175139Z",
     "start_time": "2019-09-25T22:45:45.137204Z"
    }
   },
   "outputs": [],
   "source": [
    "optatoms = db[0].copy()\n",
    "optatoms.set_calculator(gap_soap)\n",
    "opt = PreconLBFGS(optatoms, precon=Exp(3.0))"
   ]
  },
  {
   "cell_type": "code",
   "execution_count": 56,
   "metadata": {
    "ExecuteTime": {
     "end_time": "2019-09-25T22:46:00.264930Z",
     "start_time": "2019-09-25T22:45:45.185216Z"
    },
    "scrolled": false
   },
   "outputs": [
    {
     "name": "stdout",
     "output_type": "stream",
     "text": [
      "PreconLBFGS:   0  17:18:02    -1109.683388       4.9234\n",
      "estimate_mu(): mu=1.4377293786564451, mu_c=1.0\n",
      "PreconLBFGS:   1  17:18:02    -1110.535572       4.5917\n",
      "PreconLBFGS:   2  17:18:02    -1111.272884       4.5079\n",
      "PreconLBFGS:   3  17:18:02    -1111.957952       4.3767\n",
      "PreconLBFGS:   4  17:18:02    -1112.578689       4.3500\n",
      "PreconLBFGS:   5  17:18:02    -1113.225669       4.3169\n",
      "PreconLBFGS:   6  17:18:02    -1113.863449       4.2918\n",
      "PreconLBFGS:   7  17:18:03    -1114.471548       4.2458\n",
      "PreconLBFGS:   8  17:18:03    -1115.032581       4.1511\n",
      "PreconLBFGS:   9  17:18:03    -1115.574963       4.0274\n",
      "PreconLBFGS:  10  17:18:03    -1116.119287       3.8739\n",
      "PreconLBFGS:  11  17:18:03    -1116.680878       3.6919\n",
      "PreconLBFGS:  12  17:18:03    -1117.209393       3.5311\n",
      "PreconLBFGS:  13  17:18:03    -1117.716249       3.3508\n",
      "PreconLBFGS:  14  17:18:03    -1118.160184       3.2262\n",
      "PreconLBFGS:  15  17:18:03    -1118.601303       3.0357\n",
      "PreconLBFGS:  16  17:18:03    -1118.990945       2.9062\n",
      "PreconLBFGS:  17  17:18:04    -1119.349906       2.8058\n",
      "PreconLBFGS:  18  17:18:04    -1119.678573       2.7172\n",
      "PreconLBFGS:  19  17:18:04    -1120.006870       2.6478\n",
      "PreconLBFGS:  20  17:18:04    -1120.342863       2.5801\n",
      "PreconLBFGS:  21  17:18:04    -1120.661850       2.5140\n",
      "PreconLBFGS:  22  17:18:04    -1120.989318       2.4015\n",
      "PreconLBFGS:  23  17:18:04    -1121.302870       2.4258\n",
      "PreconLBFGS:  24  17:18:04    -1121.594728       2.5018\n",
      "PreconLBFGS:  25  17:18:04    -1121.864728       2.5801\n",
      "PreconLBFGS:  26  17:18:04    -1122.124053       2.5994\n",
      "PreconLBFGS:  27  17:18:04    -1122.396679       2.6003\n",
      "PreconLBFGS:  28  17:18:05    -1122.669355       2.5872\n",
      "PreconLBFGS:  29  17:18:05    -1122.963355       2.4957\n",
      "PreconLBFGS:  30  17:18:05    -1123.269795       2.3171\n",
      "PreconLBFGS:  31  17:18:05    -1123.603594       1.9910\n",
      "PreconLBFGS:  32  17:18:05    -1123.937762       1.5578\n",
      "PreconLBFGS:  33  17:18:05    -1124.234675       1.3468\n",
      "PreconLBFGS:  34  17:18:05    -1124.513655       1.1899\n",
      "PreconLBFGS:  35  17:18:05    -1124.758552       1.2400\n",
      "PreconLBFGS:  36  17:18:05    -1124.966145       1.2919\n",
      "PreconLBFGS:  37  17:18:05    -1125.150890       1.3222\n",
      "PreconLBFGS:  38  17:18:06    -1125.313512       1.2540\n",
      "PreconLBFGS:  39  17:18:06    -1125.484647       1.2145\n",
      "PreconLBFGS:  40  17:18:06    -1125.645388       1.1570\n",
      "PreconLBFGS:  41  17:18:06    -1125.802081       1.1058\n",
      "PreconLBFGS:  42  17:18:06    -1125.944609       1.0548\n",
      "PreconLBFGS:  43  17:18:06    -1126.066383       1.0593\n",
      "PreconLBFGS:  44  17:18:06    -1126.162365       1.0664\n",
      "PreconLBFGS:  45  17:18:06    -1126.246577       1.0189\n",
      "PreconLBFGS:  46  17:18:06    -1126.330379       1.0728\n",
      "PreconLBFGS:  47  17:18:06    -1126.410825       1.1446\n",
      "PreconLBFGS:  48  17:18:07    -1126.488125       1.2435\n",
      "PreconLBFGS:  49  17:18:07    -1126.560200       1.3443\n",
      "PreconLBFGS:  50  17:18:07    -1126.626230       1.4196\n",
      "PreconLBFGS:  51  17:18:07    -1126.686193       1.3669\n",
      "PreconLBFGS:  52  17:18:07    -1126.742823       1.3389\n",
      "PreconLBFGS:  53  17:18:07    -1126.795906       1.2727\n",
      "PreconLBFGS:  54  17:18:07    -1126.845887       1.2176\n",
      "PreconLBFGS:  55  17:18:07    -1126.893799       1.1407\n",
      "PreconLBFGS:  56  17:18:07    -1126.940278       1.0719\n",
      "PreconLBFGS:  57  17:18:07    -1126.982981       0.9973\n",
      "PreconLBFGS:  58  17:18:08    -1127.029085       0.9026\n",
      "PreconLBFGS:  59  17:18:08    -1127.070015       0.8517\n",
      "PreconLBFGS:  60  17:18:08    -1127.116317       0.8929\n",
      "PreconLBFGS:  61  17:18:08    -1127.161266       0.9901\n",
      "PreconLBFGS:  62  17:18:08    -1127.202419       1.0645\n",
      "PreconLBFGS:  63  17:18:08    -1127.241068       1.0903\n",
      "PreconLBFGS:  64  17:18:08    -1127.282508       1.0586\n",
      "PreconLBFGS:  65  17:18:08    -1127.347191       0.8213\n",
      "PreconLBFGS:  66  17:18:08    -1127.405873       0.7884\n",
      "PreconLBFGS:  67  17:18:09    -1127.448727       0.7998\n",
      "PreconLBFGS:  68  17:18:09    -1127.486176       0.7780\n",
      "PreconLBFGS:  69  17:18:09    -1127.525671       0.7810\n",
      "PreconLBFGS:  70  17:18:09    -1127.558559       0.8359\n",
      "PreconLBFGS:  71  17:18:09    -1127.598349       0.8139\n",
      "PreconLBFGS:  72  17:18:09    -1127.634101       0.8673\n",
      "PreconLBFGS:  73  17:18:09    -1127.662738       0.8824\n",
      "PreconLBFGS:  74  17:18:09    -1127.687485       0.9169\n",
      "PreconLBFGS:  75  17:18:09    -1127.698444       1.0778\n"
     ]
    },
    {
     "name": "stderr",
     "output_type": "stream",
     "text": [
      "Passed direction which is not downhill. Aborting...\n"
     ]
    },
    {
     "name": "stdout",
     "output_type": "stream",
     "text": [
      "PreconLBFGS:  76  17:18:09    -1127.698444       1.0778\n",
      "PreconLBFGS:  77  17:18:10    -1127.719816       1.0899\n"
     ]
    },
    {
     "name": "stderr",
     "output_type": "stream",
     "text": [
      "/Users/jameskermode/.pyenv/versions/3.6.6/Python.framework/Versions/3.6/lib/python3.6/site-packages/ase/optimize/precon/lbfgs.py:352: UserWarning: Armijo linesearch failed, resetting Hessian and trying again\n",
      "  'Armijo linesearch failed, resetting Hessian and '\n"
     ]
    },
    {
     "name": "stdout",
     "output_type": "stream",
     "text": [
      "PreconLBFGS:  78  17:18:10    -1127.761700       1.1322\n",
      "PreconLBFGS:  79  17:18:10    -1127.844255       1.2291\n",
      "PreconLBFGS:  80  17:18:10    -1127.969036       1.3938\n",
      "PreconLBFGS:  81  17:18:10    -1128.081393       1.4121\n",
      "PreconLBFGS:  82  17:18:10    -1128.181345       1.3558\n",
      "PreconLBFGS:  83  17:18:10    -1128.270254       1.3927\n",
      "PreconLBFGS:  84  17:18:10    -1128.348531       1.5283\n",
      "PreconLBFGS:  85  17:18:10    -1128.426889       1.7799\n",
      "PreconLBFGS:  86  17:18:11    -1128.445736       1.8243\n"
     ]
    },
    {
     "name": "stderr",
     "output_type": "stream",
     "text": [
      "Passed direction which is not downhill. Aborting...\n"
     ]
    },
    {
     "name": "stdout",
     "output_type": "stream",
     "text": [
      "PreconLBFGS:  87  17:18:11    -1128.445736       1.8243\n",
      "PreconLBFGS:  88  17:18:11    -1128.482902       1.9309\n",
      "PreconLBFGS:  89  17:18:11    -1128.559965       2.2312\n"
     ]
    },
    {
     "name": "stderr",
     "output_type": "stream",
     "text": [
      "Passed direction which is not downhill. Aborting...\n"
     ]
    },
    {
     "name": "stdout",
     "output_type": "stream",
     "text": [
      "PreconLBFGS:  90  17:18:11    -1128.559965       2.2312\n",
      "PreconLBFGS:  91  17:18:11    -1128.670491       2.4921\n"
     ]
    },
    {
     "name": "stderr",
     "output_type": "stream",
     "text": [
      "Passed direction which is not downhill. Aborting...\n"
     ]
    },
    {
     "name": "stdout",
     "output_type": "stream",
     "text": [
      "PreconLBFGS:  92  17:18:11    -1128.670491       2.4921\n",
      "PreconLBFGS:  93  17:18:11    -1128.782318       2.3591\n",
      "PreconLBFGS:  94  17:18:11    -1128.894364       2.1521\n",
      "PreconLBFGS:  95  17:18:11    -1129.001220       2.2479\n",
      "PreconLBFGS:  96  17:18:11    -1129.106928       2.3316\n"
     ]
    },
    {
     "name": "stderr",
     "output_type": "stream",
     "text": [
      "Passed direction which is not downhill. Aborting...\n"
     ]
    },
    {
     "name": "stdout",
     "output_type": "stream",
     "text": [
      "PreconLBFGS:  97  17:18:11    -1129.106928       2.3316\n",
      "PreconLBFGS:  98  17:18:11    -1129.220418       2.3091\n",
      "PreconLBFGS:  99  17:18:12    -1129.331678       2.2090\n",
      "PreconLBFGS: 100  17:18:12    -1129.443932       2.0163\n",
      "PreconLBFGS: 101  17:18:12    -1129.551115       1.6623\n",
      "PreconLBFGS: 102  17:18:12    -1129.652255       1.2197\n",
      "PreconLBFGS: 103  17:18:12    -1129.733200       0.8105\n",
      "PreconLBFGS: 104  17:18:12    -1129.793145       0.6091\n",
      "PreconLBFGS: 105  17:18:12    -1129.830076       0.5602\n",
      "PreconLBFGS: 106  17:18:12    -1129.844974       0.3316\n",
      "PreconLBFGS: 107  17:18:12    -1129.853075       0.4243\n",
      "PreconLBFGS: 108  17:18:13    -1129.857980       0.2636\n",
      "PreconLBFGS: 109  17:18:13    -1129.861664       0.1665\n",
      "PreconLBFGS: 110  17:18:13    -1129.863643       0.1211\n",
      "PreconLBFGS: 111  17:18:13    -1129.864671       0.0906\n",
      "PreconLBFGS: 112  17:18:13    -1129.865139       0.0449\n",
      "PreconLBFGS: 113  17:18:13    -1129.865458       0.0324\n",
      "PreconLBFGS: 114  17:18:14    -1129.865586       0.0232\n",
      "PreconLBFGS: 115  17:18:14    -1129.865642       0.0139\n",
      "PreconLBFGS: 116  17:18:14    -1129.865663       0.0100\n",
      "PreconLBFGS: 117  17:18:14    -1129.865673       0.0062\n"
     ]
    },
    {
     "data": {
      "text/plain": [
       "True"
      ]
     },
     "execution_count": 56,
     "metadata": {},
     "output_type": "execute_result"
    }
   ],
   "source": [
    "opt.run(fmax=0.01)"
   ]
  },
  {
   "cell_type": "markdown",
   "metadata": {},
   "source": [
    "Let's visualise the relaxed structure:"
   ]
  },
  {
   "cell_type": "code",
   "execution_count": 57,
   "metadata": {
    "ExecuteTime": {
     "end_time": "2019-09-25T22:46:00.435231Z",
     "start_time": "2019-09-25T22:46:00.298120Z"
    },
    "scrolled": false
   },
   "outputs": [
    {
     "data": {
      "application/vnd.jupyter.widget-view+json": {
       "model_id": "8d54ce7eaee94e27ad3e77113adeecdb",
       "version_major": 2,
       "version_minor": 0
      },
      "text/plain": [
       "NGLWidget()"
      ]
     },
     "metadata": {},
     "output_type": "display_data"
    }
   ],
   "source": [
    "view = ViewStructure(optatoms, (2,2,1))\n",
    "view.camera= 'orthographic'\n",
    "view"
   ]
  }
 ],
 "metadata": {
  "kernelspec": {
   "display_name": "Python 3",
   "language": "python",
   "name": "python3"
  },
  "language_info": {
   "codemirror_mode": {
    "name": "ipython",
    "version": 3
   },
   "file_extension": ".py",
   "mimetype": "text/x-python",
   "name": "python",
   "nbconvert_exporter": "python",
   "pygments_lexer": "ipython3",
   "version": "3.6.6"
  },
  "pycharm": {
   "stem_cell": {
    "cell_type": "raw",
    "metadata": {
     "collapsed": false
    },
    "source": []
   }
  }
 },
 "nbformat": 4,
 "nbformat_minor": 2
}
